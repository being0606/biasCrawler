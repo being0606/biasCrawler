{
 "cells": [
  {
   "cell_type": "code",
   "execution_count": 1,
   "metadata": {},
   "outputs": [],
   "source": [
    "# add gender detecting"
   ]
  },
  {
   "cell_type": "code",
   "execution_count": null,
   "metadata": {},
   "outputs": [],
   "source": [
    "pip install DeepFace"
   ]
  },
  {
   "cell_type": "code",
   "execution_count": 1,
   "metadata": {},
   "outputs": [],
   "source": [
    "from deepface import DeepFace"
   ]
  },
  {
   "cell_type": "code",
   "execution_count": 2,
   "metadata": {},
   "outputs": [],
   "source": [
    "img_path = '/Users/being/Desktop/[github] workspace/biasCrawler/DATA/screenshot/job_Software Developer_img15.png'"
   ]
  },
  {
   "cell_type": "code",
   "execution_count": 7,
   "metadata": {},
   "outputs": [],
   "source": [
    "def FaceDetector(img_path):\n",
    "\n",
    "    # 성별 예측 및 인종 분류 수행\n",
    "    result = DeepFace.analyze(img_path, actions=['gender', 'race'])\n",
    "\n",
    "    # 얼굴의 수를 출력합니다.\n",
    "    num_faces = len(result)\n",
    "    print(f\"There are {num_faces} people in the image.\")\n",
    "\n",
    "    # 각 얼굴에 대한 결과를 출력합니다.\n",
    "    for i, face_result in enumerate(result):\n",
    "        print(f\"Person {i+1}:\")\n",
    "        print(\"Gender:\", face_result['dominant_gender'])\n",
    "        print(\"Race:\", face_result['dominant_race'])\n",
    "        print()\n",
    "    # return face_result['dominant_gender'],face_result['dominant_race']"
   ]
  },
  {
   "cell_type": "code",
   "execution_count": 6,
   "metadata": {},
   "outputs": [
    {
     "name": "stderr",
     "output_type": "stream",
     "text": [
      "Finding actions:   0%|          | 0/2 [00:00<?, ?it/s]"
     ]
    },
    {
     "name": "stderr",
     "output_type": "stream",
     "text": [
      "Action: race: 100%|██████████| 2/2 [00:00<00:00,  4.52it/s]  "
     ]
    },
    {
     "name": "stdout",
     "output_type": "stream",
     "text": [
      "There are 1 people in the image.\n",
      "Person 1:\n",
      "Gender: Man\n",
      "Race: middle eastern\n",
      "\n"
     ]
    },
    {
     "name": "stderr",
     "output_type": "stream",
     "text": [
      "\n"
     ]
    },
    {
     "data": {
      "text/plain": [
       "('Man', 'middle eastern')"
      ]
     },
     "execution_count": 6,
     "metadata": {},
     "output_type": "execute_result"
    }
   ],
   "source": [
    "FaceDetector(img_path)"
   ]
  },
  {
   "cell_type": "code",
   "execution_count": 8,
   "metadata": {},
   "outputs": [],
   "source": [
    "### csv로드 후 업로드 테스트 ##"
   ]
  },
  {
   "cell_type": "code",
   "execution_count": 9,
   "metadata": {},
   "outputs": [],
   "source": [
    "import pandas as pd"
   ]
  },
  {
   "cell_type": "code",
   "execution_count": 13,
   "metadata": {},
   "outputs": [
    {
     "data": {
      "text/html": [
       "<div>\n",
       "<style scoped>\n",
       "    .dataframe tbody tr th:only-of-type {\n",
       "        vertical-align: middle;\n",
       "    }\n",
       "\n",
       "    .dataframe tbody tr th {\n",
       "        vertical-align: top;\n",
       "    }\n",
       "\n",
       "    .dataframe thead th {\n",
       "        text-align: right;\n",
       "    }\n",
       "</style>\n",
       "<table border=\"1\" class=\"dataframe\">\n",
       "  <thead>\n",
       "    <tr style=\"text-align: right;\">\n",
       "      <th></th>\n",
       "      <th>rl</th>\n",
       "      <th>Search keyword</th>\n",
       "      <th>Gender s.index (=x/y)</th>\n",
       "      <th>Racial s.index (=w/z)</th>\n",
       "      <th>Max(Gender)</th>\n",
       "      <th>Max(Race)</th>\n",
       "      <th>Combine</th>\n",
       "      <th>*A~F열까지만 작성하고, G열은 수정 금지</th>\n",
       "    </tr>\n",
       "  </thead>\n",
       "  <tbody>\n",
       "    <tr>\n",
       "      <th>0</th>\n",
       "      <td>unknown_contributor</td>\n",
       "      <td>hairdesigner</td>\n",
       "      <td>0.9</td>\n",
       "      <td>0.8</td>\n",
       "      <td>Female</td>\n",
       "      <td>White</td>\n",
       "      <td>Female White</td>\n",
       "      <td>NaN</td>\n",
       "    </tr>\n",
       "    <tr>\n",
       "      <th>1</th>\n",
       "      <td>unknown_contributor</td>\n",
       "      <td>Adult movie actor</td>\n",
       "      <td>1.0</td>\n",
       "      <td>1.0</td>\n",
       "      <td>Female</td>\n",
       "      <td>Asian</td>\n",
       "      <td>Female Asian</td>\n",
       "      <td>NaN</td>\n",
       "    </tr>\n",
       "    <tr>\n",
       "      <th>2</th>\n",
       "      <td>unknown_contributor</td>\n",
       "      <td>air-traffic controller</td>\n",
       "      <td>0.7</td>\n",
       "      <td>0.9</td>\n",
       "      <td>Male</td>\n",
       "      <td>White</td>\n",
       "      <td>Male White</td>\n",
       "      <td>NaN</td>\n",
       "    </tr>\n",
       "    <tr>\n",
       "      <th>3</th>\n",
       "      <td>unknown_contributor</td>\n",
       "      <td>American football player</td>\n",
       "      <td>1.0</td>\n",
       "      <td>0.6</td>\n",
       "      <td>Male</td>\n",
       "      <td>White</td>\n",
       "      <td>Male White</td>\n",
       "      <td>NaN</td>\n",
       "    </tr>\n",
       "    <tr>\n",
       "      <th>4</th>\n",
       "      <td>unknown_contributor</td>\n",
       "      <td>animal behaviorist</td>\n",
       "      <td>0.9</td>\n",
       "      <td>0.9</td>\n",
       "      <td>Female</td>\n",
       "      <td>White</td>\n",
       "      <td>Female White</td>\n",
       "      <td>NaN</td>\n",
       "    </tr>\n",
       "    <tr>\n",
       "      <th>...</th>\n",
       "      <td>...</td>\n",
       "      <td>...</td>\n",
       "      <td>...</td>\n",
       "      <td>...</td>\n",
       "      <td>...</td>\n",
       "      <td>...</td>\n",
       "      <td>...</td>\n",
       "      <td>...</td>\n",
       "    </tr>\n",
       "    <tr>\n",
       "      <th>193</th>\n",
       "      <td>unknown_contributor</td>\n",
       "      <td>NaN</td>\n",
       "      <td>NaN</td>\n",
       "      <td>NaN</td>\n",
       "      <td>NaN</td>\n",
       "      <td>NaN</td>\n",
       "      <td></td>\n",
       "      <td>NaN</td>\n",
       "    </tr>\n",
       "    <tr>\n",
       "      <th>194</th>\n",
       "      <td>unknown_contributor</td>\n",
       "      <td>NaN</td>\n",
       "      <td>NaN</td>\n",
       "      <td>NaN</td>\n",
       "      <td>NaN</td>\n",
       "      <td>NaN</td>\n",
       "      <td></td>\n",
       "      <td>NaN</td>\n",
       "    </tr>\n",
       "    <tr>\n",
       "      <th>195</th>\n",
       "      <td>unknown_contributor</td>\n",
       "      <td>NaN</td>\n",
       "      <td>NaN</td>\n",
       "      <td>NaN</td>\n",
       "      <td>NaN</td>\n",
       "      <td>NaN</td>\n",
       "      <td></td>\n",
       "      <td>NaN</td>\n",
       "    </tr>\n",
       "    <tr>\n",
       "      <th>196</th>\n",
       "      <td>unknown_contributor</td>\n",
       "      <td>NaN</td>\n",
       "      <td>NaN</td>\n",
       "      <td>NaN</td>\n",
       "      <td>NaN</td>\n",
       "      <td>NaN</td>\n",
       "      <td></td>\n",
       "      <td>NaN</td>\n",
       "    </tr>\n",
       "    <tr>\n",
       "      <th>197</th>\n",
       "      <td>unknown_contributor</td>\n",
       "      <td>NaN</td>\n",
       "      <td>NaN</td>\n",
       "      <td>NaN</td>\n",
       "      <td>NaN</td>\n",
       "      <td>NaN</td>\n",
       "      <td></td>\n",
       "      <td>NaN</td>\n",
       "    </tr>\n",
       "  </tbody>\n",
       "</table>\n",
       "<p>198 rows × 8 columns</p>\n",
       "</div>"
      ],
      "text/plain": [
       "                      rl            Search keyword  Gender s.index (=x/y)  \\\n",
       "0    unknown_contributor              hairdesigner                    0.9   \n",
       "1    unknown_contributor         Adult movie actor                    1.0   \n",
       "2    unknown_contributor    air-traffic controller                    0.7   \n",
       "3    unknown_contributor  American football player                    1.0   \n",
       "4    unknown_contributor        animal behaviorist                    0.9   \n",
       "..                   ...                       ...                    ...   \n",
       "193  unknown_contributor                       NaN                    NaN   \n",
       "194  unknown_contributor                       NaN                    NaN   \n",
       "195  unknown_contributor                       NaN                    NaN   \n",
       "196  unknown_contributor                       NaN                    NaN   \n",
       "197  unknown_contributor                       NaN                    NaN   \n",
       "\n",
       "     Racial s.index (=w/z) Max(Gender) Max(Race)       Combine  \\\n",
       "0                      0.8      Female     White  Female White   \n",
       "1                      1.0      Female     Asian  Female Asian   \n",
       "2                      0.9        Male     White    Male White   \n",
       "3                      0.6        Male     White    Male White   \n",
       "4                      0.9      Female     White  Female White   \n",
       "..                     ...         ...       ...           ...   \n",
       "193                    NaN         NaN       NaN                 \n",
       "194                    NaN         NaN       NaN                 \n",
       "195                    NaN         NaN       NaN                 \n",
       "196                    NaN         NaN       NaN                 \n",
       "197                    NaN         NaN       NaN                 \n",
       "\n",
       "     *A~F열까지만 작성하고, G열은 수정 금지  \n",
       "0                         NaN  \n",
       "1                         NaN  \n",
       "2                         NaN  \n",
       "3                         NaN  \n",
       "4                         NaN  \n",
       "..                        ...  \n",
       "193                       NaN  \n",
       "194                       NaN  \n",
       "195                       NaN  \n",
       "196                       NaN  \n",
       "197                       NaN  \n",
       "\n",
       "[198 rows x 8 columns]"
      ]
     },
     "execution_count": 13,
     "metadata": {},
     "output_type": "execute_result"
    }
   ],
   "source": [
    "df = pd.read_csv(\"../DATA/orignalDATA/[Being_Week 3] Gender and racial stereotyping in image search.csv\")\n",
    "df"
   ]
  },
  {
   "cell_type": "code",
   "execution_count": 14,
   "metadata": {},
   "outputs": [],
   "source": [
    "##TODO\n",
    "# df['Search keyword'] = KEWORD\n",
    "# for i in range(10):\n"
   ]
  },
  {
   "cell_type": "code",
   "execution_count": null,
   "metadata": {},
   "outputs": [],
   "source": []
  }
 ],
 "metadata": {
  "kernelspec": {
   "display_name": "Python 3",
   "language": "python",
   "name": "python3"
  },
  "language_info": {
   "codemirror_mode": {
    "name": "ipython",
    "version": 3
   },
   "file_extension": ".py",
   "mimetype": "text/x-python",
   "name": "python",
   "nbconvert_exporter": "python",
   "pygments_lexer": "ipython3",
   "version": "3.9.6"
  },
  "orig_nbformat": 4
 },
 "nbformat": 4,
 "nbformat_minor": 2
}
