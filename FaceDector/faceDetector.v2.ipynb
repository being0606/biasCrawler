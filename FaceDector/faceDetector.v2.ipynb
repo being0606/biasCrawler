{
 "cells": [
  {
   "cell_type": "code",
   "execution_count": null,
   "metadata": {},
   "outputs": [],
   "source": [
    "# add gender detecting"
   ]
  },
  {
   "cell_type": "code",
   "execution_count": null,
   "metadata": {},
   "outputs": [],
   "source": [
    "pip install DeepFace"
   ]
  },
  {
   "cell_type": "code",
   "execution_count": 6,
   "metadata": {},
   "outputs": [],
   "source": [
    "import pandas as pd\n",
    "import numpy as np\n",
    "\n",
    "from deepface import DeepFace"
   ]
  },
  {
   "cell_type": "code",
   "execution_count": 11,
   "metadata": {},
   "outputs": [],
   "source": [
    "#analyze_image를 만들기전 모듈, refactoring 을 통해 만듬\n",
    "def FaceDetector(img_path):\n",
    "    try:\n",
    "        # 성별 예측 및 인종 분류 수행\n",
    "        result = DeepFace.analyze(img_path, actions=['gender', 'race'])\n",
    "\n",
    "        # 얼굴이 없는 경우 예외를 발생시킵니다.\n",
    "        if len(result) == 0:\n",
    "            raise Exception(\"No faces detected\")\n",
    "\n",
    "        # 얼굴의 수를 출력합니다.\n",
    "        num_faces = len(result)\n",
    "        print(f\"There are {num_faces} people in the image.\")\n",
    "\n",
    "        # 각 얼굴에 대한 결과를 출력합니다.\n",
    "        for i, face_result in enumerate(result):\n",
    "            print(f\"Person {i+1}:\")\n",
    "            print(\"Gender:\", face_result['dominant_gender'])\n",
    "            print(\"Race:\", face_result['dominant_race'])\n",
    "            print()\n",
    "\n",
    "        # 마지막 얼굴의 성별과 인종을 반환합니다.\n",
    "        return face_result['dominant_gender'], face_result['dominant_race']\n",
    "    except Exception as e:\n",
    "        print(f\"Error processing image {img_path}: {e}\")\n",
    "        return None, None\n",
    "\n",
    "\n",
    "# 이미지 경로를 입력하면 df이 출력, img2df의 서브모듈\n",
    "def analyze_image(img_path):\n",
    "    # 결과를 저장할 DataFrame을 생성합니다.\n",
    "    columns = ['num_people', 'Gender', 'Race']\n",
    "    df = pd.DataFrame(columns=columns)\n",
    "\n",
    "    try:\n",
    "        # 성별 예측 및 인종 분류 수행\n",
    "        result = DeepFace.analyze(img_path, actions=['gender', 'race'])\n",
    "\n",
    "        # 얼굴이 없는 경우 예외를 발생시킵니다.\n",
    "        if len(result) == 0:\n",
    "            raise Exception(\"No faces detected\")\n",
    "\n",
    "        # 얼굴의 수를 출력하고 DataFrame에 저장합니다.\n",
    "        num_people = len(result)\n",
    "        print(f\"There are {num_people} people in the image.\")\n",
    "        df['num_people'] = num_people\n",
    "\n",
    "        # 각 얼굴에 대한 결과를 DataFrame에 저장합니다.\n",
    "        for i, face_result in enumerate(result):\n",
    "            print(f\"Person {i+1}:\")\n",
    "            print(\"Gender:\", face_result['dominant_gender'])\n",
    "            print(\"Race:\", face_result['dominant_race'])\n",
    "            print()\n",
    "\n",
    "            row = [num_people, face_result['dominant_gender'], face_result['dominant_race']]\n",
    "            df.loc[len(df)] = row\n",
    "\n",
    "    except Exception as e:\n",
    "        # 예외가 발생하면 모든 열을 NaN으로 설정합니다.\n",
    "        df.loc[0] = [np.nan] * len(columns)\n",
    "\n",
    "    return df\n",
    "\n",
    "# 숫자(numOfJob)를 입력하면 이미지 분석한 df를 출력\n",
    "def img2df(numOfJob=0):\n",
    "    import glob\n",
    "    job_name = df_job['English'][numOfJob]\n",
    "    img_path = '../DATA/screenshot/' + job_name\n",
    "    png_files = glob.glob(f\"{img_path}/*.png\")\n",
    "\n",
    "    # .png 파일을 내림차순으로 정렬합니다.\n",
    "    sorted_png_files = sorted(png_files, reverse=False)\n",
    "\n",
    "    df_temp = pd.DataFrame()\n",
    "    for numOfJobpic in range(1,21):\n",
    "        df = analyze_image(sorted_png_files[numOfJobpic])\n",
    "        # 'job' 열을 첫 번째 열로 추가하고 모든 행을 job_name으로 설정합니다.\n",
    "        df.insert(0, 'job', job_name)\n",
    "        df.insert(1, 'numOfJobpic', sorted_png_files[numOfJobpic][-6:-4])\n",
    "\n",
    "        # df_temp에 결과 DataFrame을 추가합니다.\n",
    "        df_temp = pd.concat([df_temp, df], ignore_index=True)\n",
    "    return df_temp\n"
   ]
  },
  {
   "cell_type": "code",
   "execution_count": 12,
   "metadata": {},
   "outputs": [],
   "source": [
    "### csv로드 후 업로드 테스트 ##"
   ]
  },
  {
   "cell_type": "code",
   "execution_count": 13,
   "metadata": {},
   "outputs": [
    {
     "name": "stderr",
     "output_type": "stream",
     "text": [
      "Action: race: 100%|██████████| 2/2 [00:00<00:00,  7.44it/s]  \n"
     ]
    },
    {
     "name": "stdout",
     "output_type": "stream",
     "text": [
      "There are 1 people in the image.\n",
      "Person 1:\n",
      "Gender: Man\n",
      "Race: white\n",
      "\n"
     ]
    },
    {
     "name": "stderr",
     "output_type": "stream",
     "text": [
      "Action: race: 100%|██████████| 2/2 [00:00<00:00,  7.79it/s]  \n"
     ]
    },
    {
     "name": "stdout",
     "output_type": "stream",
     "text": [
      "There are 1 people in the image.\n",
      "Person 1:\n",
      "Gender: Man\n",
      "Race: latino hispanic\n",
      "\n"
     ]
    },
    {
     "name": "stderr",
     "output_type": "stream",
     "text": [
      "Action: race: 100%|██████████| 2/2 [00:00<00:00,  7.96it/s]  \n"
     ]
    },
    {
     "name": "stdout",
     "output_type": "stream",
     "text": [
      "There are 1 people in the image.\n",
      "Person 1:\n",
      "Gender: Man\n",
      "Race: middle eastern\n",
      "\n"
     ]
    },
    {
     "name": "stderr",
     "output_type": "stream",
     "text": [
      "Action: race: 100%|██████████| 2/2 [00:00<00:00,  7.94it/s]  \n"
     ]
    },
    {
     "name": "stdout",
     "output_type": "stream",
     "text": [
      "There are 1 people in the image.\n",
      "Person 1:\n",
      "Gender: Man\n",
      "Race: asian\n",
      "\n"
     ]
    },
    {
     "name": "stderr",
     "output_type": "stream",
     "text": [
      "Action: race: 100%|██████████| 2/2 [00:00<00:00,  7.97it/s]  \n"
     ]
    },
    {
     "name": "stdout",
     "output_type": "stream",
     "text": [
      "There are 1 people in the image.\n",
      "Person 1:\n",
      "Gender: Man\n",
      "Race: middle eastern\n",
      "\n"
     ]
    },
    {
     "name": "stderr",
     "output_type": "stream",
     "text": [
      "Action: race: 100%|██████████| 2/2 [00:00<00:00,  8.00it/s]  \n"
     ]
    },
    {
     "name": "stdout",
     "output_type": "stream",
     "text": [
      "There are 1 people in the image.\n",
      "Person 1:\n",
      "Gender: Man\n",
      "Race: white\n",
      "\n"
     ]
    },
    {
     "name": "stderr",
     "output_type": "stream",
     "text": [
      "Action: race: 100%|██████████| 2/2 [00:00<00:00,  8.01it/s]  \n"
     ]
    },
    {
     "name": "stdout",
     "output_type": "stream",
     "text": [
      "There are 1 people in the image.\n",
      "Person 1:\n",
      "Gender: Man\n",
      "Race: black\n",
      "\n"
     ]
    },
    {
     "name": "stderr",
     "output_type": "stream",
     "text": [
      "Action: race: 100%|██████████| 2/2 [00:00<00:00,  7.08it/s]  \n"
     ]
    },
    {
     "name": "stdout",
     "output_type": "stream",
     "text": [
      "There are 1 people in the image.\n",
      "Person 1:\n",
      "Gender: Man\n",
      "Race: middle eastern\n",
      "\n"
     ]
    },
    {
     "name": "stderr",
     "output_type": "stream",
     "text": [
      "Action: race: 100%|██████████| 2/2 [00:00<00:00,  7.94it/s]  \n"
     ]
    },
    {
     "name": "stdout",
     "output_type": "stream",
     "text": [
      "There are 1 people in the image.\n",
      "Person 1:\n",
      "Gender: Man\n",
      "Race: white\n",
      "\n"
     ]
    },
    {
     "name": "stderr",
     "output_type": "stream",
     "text": [
      "Action: race: 100%|██████████| 2/2 [00:00<00:00,  8.06it/s]  \n"
     ]
    },
    {
     "name": "stdout",
     "output_type": "stream",
     "text": [
      "There are 1 people in the image.\n",
      "Person 1:\n",
      "Gender: Man\n",
      "Race: black\n",
      "\n"
     ]
    },
    {
     "name": "stderr",
     "output_type": "stream",
     "text": [
      "Action: race: 100%|██████████| 2/2 [00:00<00:00,  7.95it/s]  \n"
     ]
    },
    {
     "name": "stdout",
     "output_type": "stream",
     "text": [
      "There are 1 people in the image.\n",
      "Person 1:\n",
      "Gender: Woman\n",
      "Race: white\n",
      "\n"
     ]
    },
    {
     "name": "stderr",
     "output_type": "stream",
     "text": [
      "Action: race: 100%|██████████| 2/2 [00:00<00:00,  7.36it/s]  \n"
     ]
    },
    {
     "name": "stdout",
     "output_type": "stream",
     "text": [
      "There are 1 people in the image.\n",
      "Person 1:\n",
      "Gender: Man\n",
      "Race: black\n",
      "\n"
     ]
    },
    {
     "name": "stderr",
     "output_type": "stream",
     "text": [
      "Action: race: 100%|██████████| 2/2 [00:00<00:00,  7.26it/s]  \n"
     ]
    },
    {
     "name": "stdout",
     "output_type": "stream",
     "text": [
      "There are 1 people in the image.\n",
      "Person 1:\n",
      "Gender: Woman\n",
      "Race: latino hispanic\n",
      "\n"
     ]
    },
    {
     "name": "stderr",
     "output_type": "stream",
     "text": [
      "Action: race: 100%|██████████| 2/2 [00:00<00:00,  7.26it/s]  \n",
      "Action: race: 100%|██████████| 2/2 [00:00<00:00,  7.41it/s]  \n"
     ]
    },
    {
     "name": "stdout",
     "output_type": "stream",
     "text": [
      "There are 2 people in the image.\n",
      "Person 1:\n",
      "Gender: Man\n",
      "Race: black\n",
      "\n",
      "Person 2:\n",
      "Gender: Woman\n",
      "Race: white\n",
      "\n"
     ]
    },
    {
     "name": "stderr",
     "output_type": "stream",
     "text": [
      "Action: race: 100%|██████████| 2/2 [00:00<00:00,  7.59it/s]  \n"
     ]
    },
    {
     "name": "stdout",
     "output_type": "stream",
     "text": [
      "There are 1 people in the image.\n",
      "Person 1:\n",
      "Gender: Man\n",
      "Race: black\n",
      "\n"
     ]
    },
    {
     "name": "stderr",
     "output_type": "stream",
     "text": [
      "Action: race: 100%|██████████| 2/2 [00:00<00:00,  7.64it/s]  \n"
     ]
    },
    {
     "name": "stdout",
     "output_type": "stream",
     "text": [
      "There are 1 people in the image.\n",
      "Person 1:\n",
      "Gender: Woman\n",
      "Race: white\n",
      "\n"
     ]
    },
    {
     "name": "stderr",
     "output_type": "stream",
     "text": [
      "Action: race: 100%|██████████| 2/2 [00:00<00:00,  7.84it/s]  \n"
     ]
    },
    {
     "name": "stdout",
     "output_type": "stream",
     "text": [
      "There are 1 people in the image.\n",
      "Person 1:\n",
      "Gender: Woman\n",
      "Race: white\n",
      "\n"
     ]
    },
    {
     "name": "stderr",
     "output_type": "stream",
     "text": [
      "Action: race: 100%|██████████| 2/2 [00:00<00:00,  7.76it/s]  \n"
     ]
    },
    {
     "name": "stdout",
     "output_type": "stream",
     "text": [
      "There are 1 people in the image.\n",
      "Person 1:\n",
      "Gender: Woman\n",
      "Race: latino hispanic\n",
      "\n"
     ]
    },
    {
     "name": "stderr",
     "output_type": "stream",
     "text": [
      "Action: race: 100%|██████████| 2/2 [00:00<00:00,  7.75it/s]  \n"
     ]
    },
    {
     "name": "stdout",
     "output_type": "stream",
     "text": [
      "There are 1 people in the image.\n",
      "Person 1:\n",
      "Gender: Woman\n",
      "Race: asian\n",
      "\n"
     ]
    },
    {
     "name": "stderr",
     "output_type": "stream",
     "text": [
      "Action: race: 100%|██████████| 2/2 [00:00<00:00,  7.81it/s]  \n"
     ]
    },
    {
     "name": "stdout",
     "output_type": "stream",
     "text": [
      "There are 1 people in the image.\n",
      "Person 1:\n",
      "Gender: Man\n",
      "Race: latino hispanic\n",
      "\n"
     ]
    },
    {
     "name": "stderr",
     "output_type": "stream",
     "text": [
      "Action: race: 100%|██████████| 2/2 [00:00<00:00,  7.84it/s]  \n"
     ]
    },
    {
     "name": "stdout",
     "output_type": "stream",
     "text": [
      "There are 1 people in the image.\n",
      "Person 1:\n",
      "Gender: Woman\n",
      "Race: middle eastern\n",
      "\n"
     ]
    },
    {
     "name": "stderr",
     "output_type": "stream",
     "text": [
      "Action: race: 100%|██████████| 2/2 [00:00<00:00,  6.93it/s]  \n"
     ]
    },
    {
     "name": "stdout",
     "output_type": "stream",
     "text": [
      "There are 1 people in the image.\n",
      "Person 1:\n",
      "Gender: Woman\n",
      "Race: asian\n",
      "\n"
     ]
    },
    {
     "name": "stderr",
     "output_type": "stream",
     "text": [
      "Action: race: 100%|██████████| 2/2 [00:00<00:00,  7.73it/s]  \n"
     ]
    },
    {
     "name": "stdout",
     "output_type": "stream",
     "text": [
      "There are 1 people in the image.\n",
      "Person 1:\n",
      "Gender: Woman\n",
      "Race: middle eastern\n",
      "\n"
     ]
    },
    {
     "name": "stderr",
     "output_type": "stream",
     "text": [
      "Action: race: 100%|██████████| 2/2 [00:00<00:00,  7.83it/s]  \n"
     ]
    },
    {
     "name": "stdout",
     "output_type": "stream",
     "text": [
      "There are 1 people in the image.\n",
      "Person 1:\n",
      "Gender: Woman\n",
      "Race: indian\n",
      "\n"
     ]
    },
    {
     "name": "stderr",
     "output_type": "stream",
     "text": [
      "Action: race: 100%|██████████| 2/2 [00:00<00:00,  7.61it/s]  \n"
     ]
    },
    {
     "name": "stdout",
     "output_type": "stream",
     "text": [
      "There are 1 people in the image.\n",
      "Person 1:\n",
      "Gender: Man\n",
      "Race: white\n",
      "\n"
     ]
    },
    {
     "name": "stderr",
     "output_type": "stream",
     "text": [
      "Action: race: 100%|██████████| 2/2 [00:00<00:00,  7.80it/s]  \n"
     ]
    },
    {
     "name": "stdout",
     "output_type": "stream",
     "text": [
      "There are 1 people in the image.\n",
      "Person 1:\n",
      "Gender: Man\n",
      "Race: white\n",
      "\n"
     ]
    },
    {
     "name": "stderr",
     "output_type": "stream",
     "text": [
      "Action: race: 100%|██████████| 2/2 [00:00<00:00,  7.72it/s]  \n"
     ]
    },
    {
     "name": "stdout",
     "output_type": "stream",
     "text": [
      "There are 1 people in the image.\n",
      "Person 1:\n",
      "Gender: Man\n",
      "Race: black\n",
      "\n"
     ]
    },
    {
     "name": "stderr",
     "output_type": "stream",
     "text": [
      "Action: race: 100%|██████████| 2/2 [00:00<00:00,  7.79it/s]  \n"
     ]
    },
    {
     "name": "stdout",
     "output_type": "stream",
     "text": [
      "There are 1 people in the image.\n",
      "Person 1:\n",
      "Gender: Man\n",
      "Race: white\n",
      "\n"
     ]
    },
    {
     "name": "stderr",
     "output_type": "stream",
     "text": [
      "Action: race: 100%|██████████| 2/2 [00:00<00:00,  7.80it/s]  \n"
     ]
    },
    {
     "name": "stdout",
     "output_type": "stream",
     "text": [
      "There are 1 people in the image.\n",
      "Person 1:\n",
      "Gender: Woman\n",
      "Race: black\n",
      "\n"
     ]
    },
    {
     "name": "stderr",
     "output_type": "stream",
     "text": [
      "Action: race: 100%|██████████| 2/2 [00:00<00:00,  7.72it/s]  \n"
     ]
    },
    {
     "name": "stdout",
     "output_type": "stream",
     "text": [
      "There are 1 people in the image.\n",
      "Person 1:\n",
      "Gender: Man\n",
      "Race: black\n",
      "\n"
     ]
    },
    {
     "name": "stderr",
     "output_type": "stream",
     "text": [
      "Action: race: 100%|██████████| 2/2 [00:00<00:00,  7.74it/s]  \n"
     ]
    },
    {
     "name": "stdout",
     "output_type": "stream",
     "text": [
      "There are 1 people in the image.\n",
      "Person 1:\n",
      "Gender: Woman\n",
      "Race: middle eastern\n",
      "\n"
     ]
    },
    {
     "name": "stderr",
     "output_type": "stream",
     "text": [
      "Action: race: 100%|██████████| 2/2 [00:00<00:00,  7.74it/s]  \n"
     ]
    },
    {
     "name": "stdout",
     "output_type": "stream",
     "text": [
      "There are 1 people in the image.\n",
      "Person 1:\n",
      "Gender: Man\n",
      "Race: white\n",
      "\n"
     ]
    },
    {
     "name": "stderr",
     "output_type": "stream",
     "text": [
      "Action: race: 100%|██████████| 2/2 [00:00<00:00,  7.76it/s]  \n",
      "Action: race: 100%|██████████| 2/2 [00:00<00:00,  7.94it/s]  \n",
      "Action: race: 100%|██████████| 2/2 [00:00<00:00,  7.82it/s]  \n",
      "Action: race: 100%|██████████| 2/2 [00:00<00:00,  7.91it/s]  \n",
      "Action: race: 100%|██████████| 2/2 [00:00<00:00,  7.93it/s]  \n"
     ]
    },
    {
     "name": "stdout",
     "output_type": "stream",
     "text": [
      "There are 5 people in the image.\n",
      "Person 1:\n",
      "Gender: Man\n",
      "Race: asian\n",
      "\n",
      "Person 2:\n",
      "Gender: Woman\n",
      "Race: white\n",
      "\n",
      "Person 3:\n",
      "Gender: Man\n",
      "Race: white\n",
      "\n",
      "Person 4:\n",
      "Gender: Man\n",
      "Race: white\n",
      "\n",
      "Person 5:\n",
      "Gender: Man\n",
      "Race: indian\n",
      "\n"
     ]
    },
    {
     "name": "stderr",
     "output_type": "stream",
     "text": [
      "Action: race: 100%|██████████| 2/2 [00:00<00:00,  7.84it/s]  \n"
     ]
    },
    {
     "name": "stdout",
     "output_type": "stream",
     "text": [
      "There are 1 people in the image.\n",
      "Person 1:\n",
      "Gender: Woman\n",
      "Race: indian\n",
      "\n"
     ]
    },
    {
     "name": "stderr",
     "output_type": "stream",
     "text": [
      "Action: race: 100%|██████████| 2/2 [00:00<00:00,  7.36it/s]  \n"
     ]
    },
    {
     "name": "stdout",
     "output_type": "stream",
     "text": [
      "There are 1 people in the image.\n",
      "Person 1:\n",
      "Gender: Woman\n",
      "Race: latino hispanic\n",
      "\n"
     ]
    },
    {
     "name": "stderr",
     "output_type": "stream",
     "text": [
      "Action: race: 100%|██████████| 2/2 [00:00<00:00,  7.83it/s]  \n"
     ]
    },
    {
     "name": "stdout",
     "output_type": "stream",
     "text": [
      "There are 1 people in the image.\n",
      "Person 1:\n",
      "Gender: Man\n",
      "Race: white\n",
      "\n"
     ]
    },
    {
     "name": "stderr",
     "output_type": "stream",
     "text": [
      "Action: race: 100%|██████████| 2/2 [00:00<00:00,  7.80it/s]  \n"
     ]
    },
    {
     "name": "stdout",
     "output_type": "stream",
     "text": [
      "There are 1 people in the image.\n",
      "Person 1:\n",
      "Gender: Man\n",
      "Race: latino hispanic\n",
      "\n"
     ]
    },
    {
     "name": "stderr",
     "output_type": "stream",
     "text": [
      "Action: race: 100%|██████████| 2/2 [00:00<00:00,  7.81it/s]  \n"
     ]
    },
    {
     "name": "stdout",
     "output_type": "stream",
     "text": [
      "There are 1 people in the image.\n",
      "Person 1:\n",
      "Gender: Man\n",
      "Race: indian\n",
      "\n"
     ]
    },
    {
     "name": "stderr",
     "output_type": "stream",
     "text": [
      "Action: race: 100%|██████████| 2/2 [00:00<00:00,  7.79it/s]  \n"
     ]
    },
    {
     "name": "stdout",
     "output_type": "stream",
     "text": [
      "There are 1 people in the image.\n",
      "Person 1:\n",
      "Gender: Woman\n",
      "Race: indian\n",
      "\n"
     ]
    },
    {
     "name": "stderr",
     "output_type": "stream",
     "text": [
      "Action: race: 100%|██████████| 2/2 [00:00<00:00,  7.83it/s]  \n"
     ]
    },
    {
     "name": "stdout",
     "output_type": "stream",
     "text": [
      "There are 1 people in the image.\n",
      "Person 1:\n",
      "Gender: Woman\n",
      "Race: white\n",
      "\n"
     ]
    },
    {
     "name": "stderr",
     "output_type": "stream",
     "text": [
      "Action: race: 100%|██████████| 2/2 [00:00<00:00,  7.73it/s]  \n"
     ]
    },
    {
     "name": "stdout",
     "output_type": "stream",
     "text": [
      "There are 1 people in the image.\n",
      "Person 1:\n",
      "Gender: Woman\n",
      "Race: white\n",
      "\n"
     ]
    },
    {
     "name": "stderr",
     "output_type": "stream",
     "text": [
      "Action: race: 100%|██████████| 2/2 [00:00<00:00,  7.78it/s]  \n"
     ]
    },
    {
     "name": "stdout",
     "output_type": "stream",
     "text": [
      "There are 1 people in the image.\n",
      "Person 1:\n",
      "Gender: Man\n",
      "Race: indian\n",
      "\n"
     ]
    },
    {
     "name": "stderr",
     "output_type": "stream",
     "text": [
      "Action: race: 100%|██████████| 2/2 [00:00<00:00,  7.77it/s]  \n"
     ]
    },
    {
     "name": "stdout",
     "output_type": "stream",
     "text": [
      "There are 1 people in the image.\n",
      "Person 1:\n",
      "Gender: Man\n",
      "Race: white\n",
      "\n"
     ]
    },
    {
     "name": "stderr",
     "output_type": "stream",
     "text": [
      "Action: race: 100%|██████████| 2/2 [00:00<00:00,  7.87it/s]  \n"
     ]
    },
    {
     "name": "stdout",
     "output_type": "stream",
     "text": [
      "There are 1 people in the image.\n",
      "Person 1:\n",
      "Gender: Man\n",
      "Race: white\n",
      "\n"
     ]
    },
    {
     "name": "stderr",
     "output_type": "stream",
     "text": [
      "Action: race: 100%|██████████| 2/2 [00:00<00:00,  7.80it/s]  \n"
     ]
    },
    {
     "name": "stdout",
     "output_type": "stream",
     "text": [
      "There are 1 people in the image.\n",
      "Person 1:\n",
      "Gender: Man\n",
      "Race: white\n",
      "\n"
     ]
    },
    {
     "name": "stderr",
     "output_type": "stream",
     "text": [
      "Action: race: 100%|██████████| 2/2 [00:00<00:00,  7.73it/s]  \n"
     ]
    },
    {
     "name": "stdout",
     "output_type": "stream",
     "text": [
      "There are 1 people in the image.\n",
      "Person 1:\n",
      "Gender: Man\n",
      "Race: white\n",
      "\n"
     ]
    },
    {
     "name": "stderr",
     "output_type": "stream",
     "text": [
      "Action: race: 100%|██████████| 2/2 [00:00<00:00,  7.76it/s]  \n"
     ]
    },
    {
     "name": "stdout",
     "output_type": "stream",
     "text": [
      "There are 1 people in the image.\n",
      "Person 1:\n",
      "Gender: Woman\n",
      "Race: black\n",
      "\n"
     ]
    },
    {
     "name": "stderr",
     "output_type": "stream",
     "text": [
      "Action: race: 100%|██████████| 2/2 [00:00<00:00,  7.82it/s]  \n"
     ]
    },
    {
     "name": "stdout",
     "output_type": "stream",
     "text": [
      "There are 1 people in the image.\n",
      "Person 1:\n",
      "Gender: Woman\n",
      "Race: white\n",
      "\n"
     ]
    },
    {
     "name": "stderr",
     "output_type": "stream",
     "text": [
      "Action: race: 100%|██████████| 2/2 [00:00<00:00,  7.81it/s]  \n"
     ]
    },
    {
     "name": "stdout",
     "output_type": "stream",
     "text": [
      "There are 1 people in the image.\n",
      "Person 1:\n",
      "Gender: Man\n",
      "Race: white\n",
      "\n"
     ]
    },
    {
     "name": "stderr",
     "output_type": "stream",
     "text": [
      "Action: race: 100%|██████████| 2/2 [00:00<00:00,  7.83it/s]  \n"
     ]
    },
    {
     "name": "stdout",
     "output_type": "stream",
     "text": [
      "There are 1 people in the image.\n",
      "Person 1:\n",
      "Gender: Woman\n",
      "Race: white\n",
      "\n"
     ]
    },
    {
     "name": "stderr",
     "output_type": "stream",
     "text": [
      "Action: race: 100%|██████████| 2/2 [00:00<00:00,  7.76it/s]  \n"
     ]
    },
    {
     "name": "stdout",
     "output_type": "stream",
     "text": [
      "There are 1 people in the image.\n",
      "Person 1:\n",
      "Gender: Man\n",
      "Race: white\n",
      "\n"
     ]
    },
    {
     "name": "stderr",
     "output_type": "stream",
     "text": [
      "Action: race: 100%|██████████| 2/2 [00:00<00:00,  6.73it/s]  \n"
     ]
    },
    {
     "name": "stdout",
     "output_type": "stream",
     "text": [
      "There are 1 people in the image.\n",
      "Person 1:\n",
      "Gender: Man\n",
      "Race: middle eastern\n",
      "\n"
     ]
    },
    {
     "name": "stderr",
     "output_type": "stream",
     "text": [
      "Action: race: 100%|██████████| 2/2 [00:00<00:00,  7.81it/s]  \n"
     ]
    },
    {
     "name": "stdout",
     "output_type": "stream",
     "text": [
      "There are 1 people in the image.\n",
      "Person 1:\n",
      "Gender: Man\n",
      "Race: white\n",
      "\n"
     ]
    },
    {
     "name": "stderr",
     "output_type": "stream",
     "text": [
      "Action: race: 100%|██████████| 2/2 [00:00<00:00,  7.77it/s]  \n"
     ]
    },
    {
     "name": "stdout",
     "output_type": "stream",
     "text": [
      "There are 1 people in the image.\n",
      "Person 1:\n",
      "Gender: Man\n",
      "Race: white\n",
      "\n"
     ]
    },
    {
     "name": "stderr",
     "output_type": "stream",
     "text": [
      "Action: race: 100%|██████████| 2/2 [00:00<00:00,  7.60it/s]  \n"
     ]
    },
    {
     "name": "stdout",
     "output_type": "stream",
     "text": [
      "There are 1 people in the image.\n",
      "Person 1:\n",
      "Gender: Man\n",
      "Race: asian\n",
      "\n"
     ]
    },
    {
     "name": "stderr",
     "output_type": "stream",
     "text": [
      "Action: race: 100%|██████████| 2/2 [00:00<00:00,  7.72it/s]  \n"
     ]
    },
    {
     "name": "stdout",
     "output_type": "stream",
     "text": [
      "There are 1 people in the image.\n",
      "Person 1:\n",
      "Gender: Man\n",
      "Race: black\n",
      "\n"
     ]
    },
    {
     "name": "stderr",
     "output_type": "stream",
     "text": [
      "Action: race: 100%|██████████| 2/2 [00:00<00:00,  7.80it/s]  \n"
     ]
    },
    {
     "name": "stdout",
     "output_type": "stream",
     "text": [
      "There are 1 people in the image.\n",
      "Person 1:\n",
      "Gender: Man\n",
      "Race: indian\n",
      "\n"
     ]
    },
    {
     "name": "stderr",
     "output_type": "stream",
     "text": [
      "Action: race: 100%|██████████| 2/2 [00:00<00:00,  7.81it/s]  \n"
     ]
    },
    {
     "name": "stdout",
     "output_type": "stream",
     "text": [
      "There are 1 people in the image.\n",
      "Person 1:\n",
      "Gender: Man\n",
      "Race: asian\n",
      "\n"
     ]
    },
    {
     "name": "stderr",
     "output_type": "stream",
     "text": [
      "Action: race: 100%|██████████| 2/2 [00:00<00:00,  7.69it/s]  \n"
     ]
    },
    {
     "name": "stdout",
     "output_type": "stream",
     "text": [
      "There are 1 people in the image.\n",
      "Person 1:\n",
      "Gender: Man\n",
      "Race: indian\n",
      "\n"
     ]
    },
    {
     "name": "stderr",
     "output_type": "stream",
     "text": [
      "Action: race: 100%|██████████| 2/2 [00:00<00:00,  7.86it/s]  \n"
     ]
    },
    {
     "name": "stdout",
     "output_type": "stream",
     "text": [
      "There are 1 people in the image.\n",
      "Person 1:\n",
      "Gender: Man\n",
      "Race: white\n",
      "\n"
     ]
    },
    {
     "name": "stderr",
     "output_type": "stream",
     "text": [
      "Action: race: 100%|██████████| 2/2 [00:00<00:00,  7.84it/s]  \n"
     ]
    },
    {
     "name": "stdout",
     "output_type": "stream",
     "text": [
      "There are 1 people in the image.\n",
      "Person 1:\n",
      "Gender: Man\n",
      "Race: white\n",
      "\n"
     ]
    },
    {
     "name": "stderr",
     "output_type": "stream",
     "text": [
      "Action: race: 100%|██████████| 2/2 [00:00<00:00,  7.80it/s]  \n"
     ]
    },
    {
     "name": "stdout",
     "output_type": "stream",
     "text": [
      "There are 1 people in the image.\n",
      "Person 1:\n",
      "Gender: Man\n",
      "Race: white\n",
      "\n"
     ]
    },
    {
     "name": "stderr",
     "output_type": "stream",
     "text": [
      "Action: race: 100%|██████████| 2/2 [00:00<00:00,  7.68it/s]  \n"
     ]
    },
    {
     "name": "stdout",
     "output_type": "stream",
     "text": [
      "There are 1 people in the image.\n",
      "Person 1:\n",
      "Gender: Man\n",
      "Race: white\n",
      "\n"
     ]
    },
    {
     "name": "stderr",
     "output_type": "stream",
     "text": [
      "Action: race: 100%|██████████| 2/2 [00:00<00:00,  7.78it/s]  \n"
     ]
    },
    {
     "name": "stdout",
     "output_type": "stream",
     "text": [
      "There are 1 people in the image.\n",
      "Person 1:\n",
      "Gender: Man\n",
      "Race: asian\n",
      "\n"
     ]
    },
    {
     "name": "stderr",
     "output_type": "stream",
     "text": [
      "Action: race: 100%|██████████| 2/2 [00:00<00:00,  7.69it/s]  \n"
     ]
    },
    {
     "name": "stdout",
     "output_type": "stream",
     "text": [
      "There are 1 people in the image.\n",
      "Person 1:\n",
      "Gender: Man\n",
      "Race: black\n",
      "\n"
     ]
    },
    {
     "name": "stderr",
     "output_type": "stream",
     "text": [
      "Action: race: 100%|██████████| 2/2 [00:00<00:00,  7.80it/s]  \n"
     ]
    },
    {
     "name": "stdout",
     "output_type": "stream",
     "text": [
      "There are 1 people in the image.\n",
      "Person 1:\n",
      "Gender: Woman\n",
      "Race: white\n",
      "\n"
     ]
    },
    {
     "name": "stderr",
     "output_type": "stream",
     "text": [
      "Action: race: 100%|██████████| 2/2 [00:00<00:00,  7.75it/s]  \n"
     ]
    },
    {
     "name": "stdout",
     "output_type": "stream",
     "text": [
      "There are 1 people in the image.\n",
      "Person 1:\n",
      "Gender: Woman\n",
      "Race: white\n",
      "\n"
     ]
    },
    {
     "name": "stderr",
     "output_type": "stream",
     "text": [
      "Action: race: 100%|██████████| 2/2 [00:00<00:00,  6.85it/s]  \n"
     ]
    },
    {
     "name": "stdout",
     "output_type": "stream",
     "text": [
      "There are 1 people in the image.\n",
      "Person 1:\n",
      "Gender: Man\n",
      "Race: indian\n",
      "\n"
     ]
    },
    {
     "name": "stderr",
     "output_type": "stream",
     "text": [
      "Action: race: 100%|██████████| 2/2 [00:00<00:00,  7.81it/s]  \n"
     ]
    },
    {
     "name": "stdout",
     "output_type": "stream",
     "text": [
      "There are 1 people in the image.\n",
      "Person 1:\n",
      "Gender: Man\n",
      "Race: black\n",
      "\n"
     ]
    },
    {
     "name": "stderr",
     "output_type": "stream",
     "text": [
      "Action: race: 100%|██████████| 2/2 [00:00<00:00,  7.83it/s]  \n"
     ]
    },
    {
     "name": "stdout",
     "output_type": "stream",
     "text": [
      "There are 1 people in the image.\n",
      "Person 1:\n",
      "Gender: Woman\n",
      "Race: middle eastern\n",
      "\n"
     ]
    },
    {
     "name": "stderr",
     "output_type": "stream",
     "text": [
      "Action: race: 100%|██████████| 2/2 [00:00<00:00,  7.71it/s]  \n"
     ]
    },
    {
     "name": "stdout",
     "output_type": "stream",
     "text": [
      "There are 1 people in the image.\n",
      "Person 1:\n",
      "Gender: Woman\n",
      "Race: indian\n",
      "\n"
     ]
    },
    {
     "name": "stderr",
     "output_type": "stream",
     "text": [
      "Action: race: 100%|██████████| 2/2 [00:00<00:00,  7.81it/s]  \n"
     ]
    },
    {
     "name": "stdout",
     "output_type": "stream",
     "text": [
      "There are 1 people in the image.\n",
      "Person 1:\n",
      "Gender: Woman\n",
      "Race: latino hispanic\n",
      "\n"
     ]
    },
    {
     "name": "stderr",
     "output_type": "stream",
     "text": [
      "Action: race: 100%|██████████| 2/2 [00:00<00:00,  7.80it/s]  \n"
     ]
    },
    {
     "name": "stdout",
     "output_type": "stream",
     "text": [
      "There are 1 people in the image.\n",
      "Person 1:\n",
      "Gender: Woman\n",
      "Race: white\n",
      "\n"
     ]
    },
    {
     "name": "stderr",
     "output_type": "stream",
     "text": [
      "Action: race: 100%|██████████| 2/2 [00:00<00:00,  7.68it/s]  \n"
     ]
    },
    {
     "name": "stdout",
     "output_type": "stream",
     "text": [
      "There are 1 people in the image.\n",
      "Person 1:\n",
      "Gender: Man\n",
      "Race: white\n",
      "\n"
     ]
    },
    {
     "name": "stderr",
     "output_type": "stream",
     "text": [
      "Action: race: 100%|██████████| 2/2 [00:00<00:00,  7.80it/s]  \n"
     ]
    },
    {
     "name": "stdout",
     "output_type": "stream",
     "text": [
      "There are 1 people in the image.\n",
      "Person 1:\n",
      "Gender: Man\n",
      "Race: white\n",
      "\n"
     ]
    },
    {
     "name": "stderr",
     "output_type": "stream",
     "text": [
      "Action: race: 100%|██████████| 2/2 [00:00<00:00,  7.74it/s]  \n"
     ]
    },
    {
     "name": "stdout",
     "output_type": "stream",
     "text": [
      "There are 1 people in the image.\n",
      "Person 1:\n",
      "Gender: Woman\n",
      "Race: white\n",
      "\n"
     ]
    },
    {
     "name": "stderr",
     "output_type": "stream",
     "text": [
      "Action: race: 100%|██████████| 2/2 [00:00<00:00,  7.80it/s]  \n"
     ]
    },
    {
     "name": "stdout",
     "output_type": "stream",
     "text": [
      "There are 1 people in the image.\n",
      "Person 1:\n",
      "Gender: Man\n",
      "Race: latino hispanic\n",
      "\n"
     ]
    },
    {
     "name": "stderr",
     "output_type": "stream",
     "text": [
      "Action: race: 100%|██████████| 2/2 [00:00<00:00,  7.81it/s]  \n"
     ]
    },
    {
     "name": "stdout",
     "output_type": "stream",
     "text": [
      "There are 1 people in the image.\n",
      "Person 1:\n",
      "Gender: Woman\n",
      "Race: white\n",
      "\n"
     ]
    },
    {
     "name": "stderr",
     "output_type": "stream",
     "text": [
      "Action: race: 100%|██████████| 2/2 [00:00<00:00,  7.41it/s]  \n"
     ]
    },
    {
     "name": "stdout",
     "output_type": "stream",
     "text": [
      "There are 1 people in the image.\n",
      "Person 1:\n",
      "Gender: Man\n",
      "Race: middle eastern\n",
      "\n"
     ]
    },
    {
     "name": "stderr",
     "output_type": "stream",
     "text": [
      "Action: race: 100%|██████████| 2/2 [00:00<00:00,  7.79it/s]  \n"
     ]
    },
    {
     "name": "stdout",
     "output_type": "stream",
     "text": [
      "There are 1 people in the image.\n",
      "Person 1:\n",
      "Gender: Woman\n",
      "Race: middle eastern\n",
      "\n"
     ]
    },
    {
     "name": "stderr",
     "output_type": "stream",
     "text": [
      "Action: race: 100%|██████████| 2/2 [00:00<00:00,  7.86it/s]  \n"
     ]
    },
    {
     "name": "stdout",
     "output_type": "stream",
     "text": [
      "There are 1 people in the image.\n",
      "Person 1:\n",
      "Gender: Woman\n",
      "Race: white\n",
      "\n"
     ]
    },
    {
     "name": "stderr",
     "output_type": "stream",
     "text": [
      "Action: race: 100%|██████████| 2/2 [00:00<00:00,  7.84it/s]  \n"
     ]
    },
    {
     "name": "stdout",
     "output_type": "stream",
     "text": [
      "There are 1 people in the image.\n",
      "Person 1:\n",
      "Gender: Man\n",
      "Race: white\n",
      "\n"
     ]
    },
    {
     "name": "stderr",
     "output_type": "stream",
     "text": [
      "Action: race: 100%|██████████| 2/2 [00:00<00:00,  7.72it/s]  \n"
     ]
    },
    {
     "name": "stdout",
     "output_type": "stream",
     "text": [
      "There are 1 people in the image.\n",
      "Person 1:\n",
      "Gender: Woman\n",
      "Race: white\n",
      "\n"
     ]
    },
    {
     "name": "stderr",
     "output_type": "stream",
     "text": [
      "Action: race: 100%|██████████| 2/2 [00:00<00:00,  6.94it/s]  \n"
     ]
    },
    {
     "name": "stdout",
     "output_type": "stream",
     "text": [
      "There are 1 people in the image.\n",
      "Person 1:\n",
      "Gender: Man\n",
      "Race: middle eastern\n",
      "\n"
     ]
    },
    {
     "name": "stderr",
     "output_type": "stream",
     "text": [
      "Action: race: 100%|██████████| 2/2 [00:00<00:00,  7.75it/s]  \n"
     ]
    },
    {
     "name": "stdout",
     "output_type": "stream",
     "text": [
      "There are 1 people in the image.\n",
      "Person 1:\n",
      "Gender: Man\n",
      "Race: black\n",
      "\n"
     ]
    },
    {
     "name": "stderr",
     "output_type": "stream",
     "text": [
      "Action: race: 100%|██████████| 2/2 [00:00<00:00,  7.67it/s]  \n"
     ]
    },
    {
     "name": "stdout",
     "output_type": "stream",
     "text": [
      "There are 1 people in the image.\n",
      "Person 1:\n",
      "Gender: Man\n",
      "Race: indian\n",
      "\n"
     ]
    },
    {
     "name": "stderr",
     "output_type": "stream",
     "text": [
      "Action: race: 100%|██████████| 2/2 [00:00<00:00,  7.70it/s]  \n"
     ]
    },
    {
     "name": "stdout",
     "output_type": "stream",
     "text": [
      "There are 1 people in the image.\n",
      "Person 1:\n",
      "Gender: Man\n",
      "Race: black\n",
      "\n"
     ]
    },
    {
     "name": "stderr",
     "output_type": "stream",
     "text": [
      "Action: race: 100%|██████████| 2/2 [00:00<00:00,  7.82it/s]  \n"
     ]
    },
    {
     "name": "stdout",
     "output_type": "stream",
     "text": [
      "There are 1 people in the image.\n",
      "Person 1:\n",
      "Gender: Man\n",
      "Race: latino hispanic\n",
      "\n"
     ]
    },
    {
     "name": "stderr",
     "output_type": "stream",
     "text": [
      "Action: race: 100%|██████████| 2/2 [00:00<00:00,  7.88it/s]  \n"
     ]
    },
    {
     "name": "stdout",
     "output_type": "stream",
     "text": [
      "There are 1 people in the image.\n",
      "Person 1:\n",
      "Gender: Man\n",
      "Race: latino hispanic\n",
      "\n"
     ]
    },
    {
     "name": "stderr",
     "output_type": "stream",
     "text": [
      "Action: race: 100%|██████████| 2/2 [00:00<00:00,  7.78it/s]  \n"
     ]
    },
    {
     "name": "stdout",
     "output_type": "stream",
     "text": [
      "There are 1 people in the image.\n",
      "Person 1:\n",
      "Gender: Woman\n",
      "Race: asian\n",
      "\n"
     ]
    },
    {
     "name": "stderr",
     "output_type": "stream",
     "text": [
      "Action: race: 100%|██████████| 2/2 [00:00<00:00,  7.38it/s]  \n"
     ]
    },
    {
     "name": "stdout",
     "output_type": "stream",
     "text": [
      "There are 1 people in the image.\n",
      "Person 1:\n",
      "Gender: Man\n",
      "Race: black\n",
      "\n"
     ]
    },
    {
     "name": "stderr",
     "output_type": "stream",
     "text": [
      "Action: race: 100%|██████████| 2/2 [00:00<00:00,  7.73it/s]  \n"
     ]
    },
    {
     "name": "stdout",
     "output_type": "stream",
     "text": [
      "There are 1 people in the image.\n",
      "Person 1:\n",
      "Gender: Woman\n",
      "Race: white\n",
      "\n"
     ]
    },
    {
     "name": "stderr",
     "output_type": "stream",
     "text": [
      "Action: race: 100%|██████████| 2/2 [00:00<00:00,  7.75it/s]  \n"
     ]
    },
    {
     "name": "stdout",
     "output_type": "stream",
     "text": [
      "There are 1 people in the image.\n",
      "Person 1:\n",
      "Gender: Man\n",
      "Race: black\n",
      "\n"
     ]
    },
    {
     "name": "stderr",
     "output_type": "stream",
     "text": [
      "Action: race: 100%|██████████| 2/2 [00:00<00:00,  7.77it/s]  \n"
     ]
    },
    {
     "name": "stdout",
     "output_type": "stream",
     "text": [
      "There are 1 people in the image.\n",
      "Person 1:\n",
      "Gender: Man\n",
      "Race: indian\n",
      "\n"
     ]
    },
    {
     "name": "stderr",
     "output_type": "stream",
     "text": [
      "Action: race: 100%|██████████| 2/2 [00:00<00:00,  7.64it/s]  \n"
     ]
    },
    {
     "name": "stdout",
     "output_type": "stream",
     "text": [
      "There are 1 people in the image.\n",
      "Person 1:\n",
      "Gender: Man\n",
      "Race: asian\n",
      "\n"
     ]
    },
    {
     "name": "stderr",
     "output_type": "stream",
     "text": [
      "Action: race: 100%|██████████| 2/2 [00:00<00:00,  7.80it/s]  \n"
     ]
    },
    {
     "name": "stdout",
     "output_type": "stream",
     "text": [
      "There are 1 people in the image.\n",
      "Person 1:\n",
      "Gender: Woman\n",
      "Race: white\n",
      "\n"
     ]
    },
    {
     "name": "stderr",
     "output_type": "stream",
     "text": [
      "Action: race: 100%|██████████| 2/2 [00:00<00:00,  7.74it/s]  \n"
     ]
    },
    {
     "name": "stdout",
     "output_type": "stream",
     "text": [
      "There are 1 people in the image.\n",
      "Person 1:\n",
      "Gender: Woman\n",
      "Race: latino hispanic\n",
      "\n"
     ]
    },
    {
     "name": "stderr",
     "output_type": "stream",
     "text": [
      "Action: race: 100%|██████████| 2/2 [00:00<00:00,  7.72it/s]  \n"
     ]
    },
    {
     "name": "stdout",
     "output_type": "stream",
     "text": [
      "There are 1 people in the image.\n",
      "Person 1:\n",
      "Gender: Woman\n",
      "Race: asian\n",
      "\n"
     ]
    },
    {
     "name": "stderr",
     "output_type": "stream",
     "text": [
      "Action: race: 100%|██████████| 2/2 [00:00<00:00,  7.71it/s]  \n"
     ]
    },
    {
     "name": "stdout",
     "output_type": "stream",
     "text": [
      "There are 1 people in the image.\n",
      "Person 1:\n",
      "Gender: Man\n",
      "Race: white\n",
      "\n"
     ]
    },
    {
     "name": "stderr",
     "output_type": "stream",
     "text": [
      "Action: race: 100%|██████████| 2/2 [00:00<00:00,  6.84it/s]  \n"
     ]
    },
    {
     "name": "stdout",
     "output_type": "stream",
     "text": [
      "There are 1 people in the image.\n",
      "Person 1:\n",
      "Gender: Man\n",
      "Race: black\n",
      "\n"
     ]
    },
    {
     "name": "stderr",
     "output_type": "stream",
     "text": [
      "Action: race: 100%|██████████| 2/2 [00:00<00:00,  7.67it/s]  \n"
     ]
    },
    {
     "name": "stdout",
     "output_type": "stream",
     "text": [
      "There are 1 people in the image.\n",
      "Person 1:\n",
      "Gender: Man\n",
      "Race: white\n",
      "\n"
     ]
    },
    {
     "name": "stderr",
     "output_type": "stream",
     "text": [
      "Action: race: 100%|██████████| 2/2 [00:00<00:00,  7.43it/s]  \n"
     ]
    },
    {
     "name": "stdout",
     "output_type": "stream",
     "text": [
      "There are 1 people in the image.\n",
      "Person 1:\n",
      "Gender: Woman\n",
      "Race: middle eastern\n",
      "\n"
     ]
    },
    {
     "name": "stderr",
     "output_type": "stream",
     "text": [
      "Action: race: 100%|██████████| 2/2 [00:00<00:00,  7.75it/s]  \n"
     ]
    },
    {
     "name": "stdout",
     "output_type": "stream",
     "text": [
      "There are 1 people in the image.\n",
      "Person 1:\n",
      "Gender: Man\n",
      "Race: white\n",
      "\n"
     ]
    },
    {
     "name": "stderr",
     "output_type": "stream",
     "text": [
      "Action: race: 100%|██████████| 2/2 [00:00<00:00,  7.87it/s]  \n",
      "Action: race: 100%|██████████| 2/2 [00:00<00:00,  7.89it/s]  \n"
     ]
    },
    {
     "name": "stdout",
     "output_type": "stream",
     "text": [
      "There are 2 people in the image.\n",
      "Person 1:\n",
      "Gender: Man\n",
      "Race: middle eastern\n",
      "\n",
      "Person 2:\n",
      "Gender: Man\n",
      "Race: indian\n",
      "\n"
     ]
    },
    {
     "name": "stderr",
     "output_type": "stream",
     "text": [
      "Action: race: 100%|██████████| 2/2 [00:00<00:00,  7.72it/s]  \n"
     ]
    },
    {
     "name": "stdout",
     "output_type": "stream",
     "text": [
      "There are 1 people in the image.\n",
      "Person 1:\n",
      "Gender: Woman\n",
      "Race: middle eastern\n",
      "\n"
     ]
    },
    {
     "name": "stderr",
     "output_type": "stream",
     "text": [
      "Action: race: 100%|██████████| 2/2 [00:00<00:00,  7.73it/s]  \n"
     ]
    },
    {
     "name": "stdout",
     "output_type": "stream",
     "text": [
      "There are 1 people in the image.\n",
      "Person 1:\n",
      "Gender: Man\n",
      "Race: middle eastern\n",
      "\n"
     ]
    },
    {
     "name": "stderr",
     "output_type": "stream",
     "text": [
      "Action: race: 100%|██████████| 2/2 [00:00<00:00,  7.73it/s]  \n"
     ]
    },
    {
     "name": "stdout",
     "output_type": "stream",
     "text": [
      "There are 1 people in the image.\n",
      "Person 1:\n",
      "Gender: Woman\n",
      "Race: middle eastern\n",
      "\n"
     ]
    },
    {
     "name": "stderr",
     "output_type": "stream",
     "text": [
      "Action: race: 100%|██████████| 2/2 [00:00<00:00,  7.75it/s]  \n"
     ]
    },
    {
     "name": "stdout",
     "output_type": "stream",
     "text": [
      "There are 1 people in the image.\n",
      "Person 1:\n",
      "Gender: Man\n",
      "Race: asian\n",
      "\n"
     ]
    },
    {
     "name": "stderr",
     "output_type": "stream",
     "text": [
      "Action: race: 100%|██████████| 2/2 [00:00<00:00,  7.79it/s]  \n"
     ]
    },
    {
     "name": "stdout",
     "output_type": "stream",
     "text": [
      "There are 1 people in the image.\n",
      "Person 1:\n",
      "Gender: Woman\n",
      "Race: asian\n",
      "\n"
     ]
    },
    {
     "name": "stderr",
     "output_type": "stream",
     "text": [
      "Action: race: 100%|██████████| 2/2 [00:00<00:00,  7.76it/s]  \n"
     ]
    },
    {
     "name": "stdout",
     "output_type": "stream",
     "text": [
      "There are 1 people in the image.\n",
      "Person 1:\n",
      "Gender: Man\n",
      "Race: white\n",
      "\n"
     ]
    },
    {
     "name": "stderr",
     "output_type": "stream",
     "text": [
      "Action: race: 100%|██████████| 2/2 [00:00<00:00,  7.72it/s]  \n"
     ]
    },
    {
     "name": "stdout",
     "output_type": "stream",
     "text": [
      "There are 1 people in the image.\n",
      "Person 1:\n",
      "Gender: Man\n",
      "Race: latino hispanic\n",
      "\n"
     ]
    },
    {
     "name": "stderr",
     "output_type": "stream",
     "text": [
      "Action: race: 100%|██████████| 2/2 [00:00<00:00,  7.75it/s]  \n"
     ]
    },
    {
     "name": "stdout",
     "output_type": "stream",
     "text": [
      "There are 1 people in the image.\n",
      "Person 1:\n",
      "Gender: Man\n",
      "Race: white\n",
      "\n"
     ]
    },
    {
     "name": "stderr",
     "output_type": "stream",
     "text": [
      "Action: race: 100%|██████████| 2/2 [00:00<00:00,  7.55it/s]  \n"
     ]
    },
    {
     "name": "stdout",
     "output_type": "stream",
     "text": [
      "There are 1 people in the image.\n",
      "Person 1:\n",
      "Gender: Woman\n",
      "Race: black\n",
      "\n"
     ]
    },
    {
     "name": "stderr",
     "output_type": "stream",
     "text": [
      "Action: race: 100%|██████████| 2/2 [00:00<00:00,  7.38it/s]  \n"
     ]
    },
    {
     "name": "stdout",
     "output_type": "stream",
     "text": [
      "There are 1 people in the image.\n",
      "Person 1:\n",
      "Gender: Man\n",
      "Race: white\n",
      "\n"
     ]
    },
    {
     "name": "stderr",
     "output_type": "stream",
     "text": [
      "Action: race: 100%|██████████| 2/2 [00:00<00:00,  6.08it/s]  \n"
     ]
    },
    {
     "name": "stdout",
     "output_type": "stream",
     "text": [
      "There are 1 people in the image.\n",
      "Person 1:\n",
      "Gender: Man\n",
      "Race: white\n",
      "\n"
     ]
    },
    {
     "name": "stderr",
     "output_type": "stream",
     "text": [
      "Action: race: 100%|██████████| 2/2 [00:00<00:00,  7.58it/s]  \n"
     ]
    },
    {
     "name": "stdout",
     "output_type": "stream",
     "text": [
      "There are 1 people in the image.\n",
      "Person 1:\n",
      "Gender: Man\n",
      "Race: white\n",
      "\n"
     ]
    },
    {
     "name": "stderr",
     "output_type": "stream",
     "text": [
      "Action: race: 100%|██████████| 2/2 [00:00<00:00,  6.13it/s]  \n"
     ]
    },
    {
     "name": "stdout",
     "output_type": "stream",
     "text": [
      "There are 1 people in the image.\n",
      "Person 1:\n",
      "Gender: Man\n",
      "Race: black\n",
      "\n"
     ]
    },
    {
     "name": "stderr",
     "output_type": "stream",
     "text": [
      "Action: race: 100%|██████████| 2/2 [00:00<00:00,  6.71it/s]  \n"
     ]
    },
    {
     "name": "stdout",
     "output_type": "stream",
     "text": [
      "There are 1 people in the image.\n",
      "Person 1:\n",
      "Gender: Man\n",
      "Race: white\n",
      "\n"
     ]
    },
    {
     "name": "stderr",
     "output_type": "stream",
     "text": [
      "Action: race: 100%|██████████| 2/2 [00:00<00:00,  7.57it/s]  \n",
      "Action: race: 100%|██████████| 2/2 [00:00<00:00,  7.73it/s]  \n",
      "Action: race: 100%|██████████| 2/2 [00:00<00:00,  7.68it/s]  \n",
      "Action: race: 100%|██████████| 2/2 [00:00<00:00,  7.75it/s]  \n"
     ]
    },
    {
     "name": "stdout",
     "output_type": "stream",
     "text": [
      "There are 4 people in the image.\n",
      "Person 1:\n",
      "Gender: Man\n",
      "Race: middle eastern\n",
      "\n",
      "Person 2:\n",
      "Gender: Man\n",
      "Race: white\n",
      "\n",
      "Person 3:\n",
      "Gender: Man\n",
      "Race: white\n",
      "\n",
      "Person 4:\n",
      "Gender: Man\n",
      "Race: white\n",
      "\n"
     ]
    },
    {
     "name": "stderr",
     "output_type": "stream",
     "text": [
      "Action: race: 100%|██████████| 2/2 [00:00<00:00,  7.41it/s]  \n",
      "Action: race: 100%|██████████| 2/2 [00:00<00:00,  7.41it/s]  \n",
      "Action: race: 100%|██████████| 2/2 [00:00<00:00,  7.52it/s]  \n"
     ]
    },
    {
     "name": "stdout",
     "output_type": "stream",
     "text": [
      "There are 3 people in the image.\n",
      "Person 1:\n",
      "Gender: Man\n",
      "Race: indian\n",
      "\n",
      "Person 2:\n",
      "Gender: Man\n",
      "Race: white\n",
      "\n",
      "Person 3:\n",
      "Gender: Man\n",
      "Race: white\n",
      "\n"
     ]
    },
    {
     "name": "stderr",
     "output_type": "stream",
     "text": [
      "Action: race: 100%|██████████| 2/2 [00:00<00:00,  7.44it/s]  \n"
     ]
    },
    {
     "name": "stdout",
     "output_type": "stream",
     "text": [
      "There are 1 people in the image.\n",
      "Person 1:\n",
      "Gender: Man\n",
      "Race: white\n",
      "\n"
     ]
    },
    {
     "name": "stderr",
     "output_type": "stream",
     "text": [
      "Action: race: 100%|██████████| 2/2 [00:00<00:00,  7.41it/s]  \n"
     ]
    },
    {
     "name": "stdout",
     "output_type": "stream",
     "text": [
      "There are 1 people in the image.\n",
      "Person 1:\n",
      "Gender: Man\n",
      "Race: white\n",
      "\n"
     ]
    },
    {
     "name": "stderr",
     "output_type": "stream",
     "text": [
      "Action: race: 100%|██████████| 2/2 [00:00<00:00,  7.68it/s]  \n"
     ]
    },
    {
     "name": "stdout",
     "output_type": "stream",
     "text": [
      "There are 1 people in the image.\n",
      "Person 1:\n",
      "Gender: Woman\n",
      "Race: white\n",
      "\n"
     ]
    },
    {
     "name": "stderr",
     "output_type": "stream",
     "text": [
      "Action: race: 100%|██████████| 2/2 [00:00<00:00,  7.67it/s]  \n"
     ]
    },
    {
     "name": "stdout",
     "output_type": "stream",
     "text": [
      "There are 1 people in the image.\n",
      "Person 1:\n",
      "Gender: Woman\n",
      "Race: black\n",
      "\n"
     ]
    },
    {
     "name": "stderr",
     "output_type": "stream",
     "text": [
      "Action: race: 100%|██████████| 2/2 [00:00<00:00,  7.49it/s]  \n"
     ]
    },
    {
     "name": "stdout",
     "output_type": "stream",
     "text": [
      "There are 1 people in the image.\n",
      "Person 1:\n",
      "Gender: Man\n",
      "Race: asian\n",
      "\n"
     ]
    },
    {
     "name": "stderr",
     "output_type": "stream",
     "text": [
      "Action: race: 100%|██████████| 2/2 [00:00<00:00,  7.19it/s]  \n"
     ]
    },
    {
     "name": "stdout",
     "output_type": "stream",
     "text": [
      "There are 1 people in the image.\n",
      "Person 1:\n",
      "Gender: Man\n",
      "Race: asian\n",
      "\n"
     ]
    },
    {
     "name": "stderr",
     "output_type": "stream",
     "text": [
      "Action: race: 100%|██████████| 2/2 [00:00<00:00,  7.58it/s]  \n"
     ]
    },
    {
     "name": "stdout",
     "output_type": "stream",
     "text": [
      "There are 1 people in the image.\n",
      "Person 1:\n",
      "Gender: Man\n",
      "Race: indian\n",
      "\n"
     ]
    },
    {
     "name": "stderr",
     "output_type": "stream",
     "text": [
      "Action: race: 100%|██████████| 2/2 [00:00<00:00,  6.60it/s]  \n"
     ]
    },
    {
     "name": "stdout",
     "output_type": "stream",
     "text": [
      "There are 1 people in the image.\n",
      "Person 1:\n",
      "Gender: Man\n",
      "Race: latino hispanic\n",
      "\n"
     ]
    },
    {
     "name": "stderr",
     "output_type": "stream",
     "text": [
      "Action: race: 100%|██████████| 2/2 [00:00<00:00,  7.50it/s]  \n"
     ]
    },
    {
     "name": "stdout",
     "output_type": "stream",
     "text": [
      "There are 1 people in the image.\n",
      "Person 1:\n",
      "Gender: Man\n",
      "Race: middle eastern\n",
      "\n"
     ]
    },
    {
     "name": "stderr",
     "output_type": "stream",
     "text": [
      "Action: race: 100%|██████████| 2/2 [00:00<00:00,  7.60it/s]  \n"
     ]
    },
    {
     "name": "stdout",
     "output_type": "stream",
     "text": [
      "There are 1 people in the image.\n",
      "Person 1:\n",
      "Gender: Man\n",
      "Race: asian\n",
      "\n"
     ]
    },
    {
     "name": "stderr",
     "output_type": "stream",
     "text": [
      "Action: race: 100%|██████████| 2/2 [00:00<00:00,  7.64it/s]  \n"
     ]
    },
    {
     "name": "stdout",
     "output_type": "stream",
     "text": [
      "There are 1 people in the image.\n",
      "Person 1:\n",
      "Gender: Man\n",
      "Race: white\n",
      "\n"
     ]
    },
    {
     "name": "stderr",
     "output_type": "stream",
     "text": [
      "Action: race: 100%|██████████| 2/2 [00:00<00:00,  7.69it/s]  \n"
     ]
    },
    {
     "name": "stdout",
     "output_type": "stream",
     "text": [
      "There are 1 people in the image.\n",
      "Person 1:\n",
      "Gender: Man\n",
      "Race: white\n",
      "\n"
     ]
    },
    {
     "name": "stderr",
     "output_type": "stream",
     "text": [
      "Action: race: 100%|██████████| 2/2 [00:00<00:00,  7.40it/s]  \n"
     ]
    },
    {
     "name": "stdout",
     "output_type": "stream",
     "text": [
      "There are 1 people in the image.\n",
      "Person 1:\n",
      "Gender: Woman\n",
      "Race: white\n",
      "\n"
     ]
    },
    {
     "name": "stderr",
     "output_type": "stream",
     "text": [
      "Action: race: 100%|██████████| 2/2 [00:00<00:00,  7.35it/s]  \n"
     ]
    },
    {
     "name": "stdout",
     "output_type": "stream",
     "text": [
      "There are 1 people in the image.\n",
      "Person 1:\n",
      "Gender: Man\n",
      "Race: white\n",
      "\n"
     ]
    },
    {
     "name": "stderr",
     "output_type": "stream",
     "text": [
      "Action: race: 100%|██████████| 2/2 [00:00<00:00,  7.40it/s]  \n"
     ]
    },
    {
     "name": "stdout",
     "output_type": "stream",
     "text": [
      "There are 1 people in the image.\n",
      "Person 1:\n",
      "Gender: Man\n",
      "Race: black\n",
      "\n"
     ]
    },
    {
     "name": "stderr",
     "output_type": "stream",
     "text": [
      "Action: race: 100%|██████████| 2/2 [00:00<00:00,  7.11it/s]  \n"
     ]
    },
    {
     "name": "stdout",
     "output_type": "stream",
     "text": [
      "There are 1 people in the image.\n",
      "Person 1:\n",
      "Gender: Woman\n",
      "Race: white\n",
      "\n"
     ]
    },
    {
     "name": "stderr",
     "output_type": "stream",
     "text": [
      "Action: race: 100%|██████████| 2/2 [00:00<00:00,  7.32it/s]  \n"
     ]
    },
    {
     "name": "stdout",
     "output_type": "stream",
     "text": [
      "There are 1 people in the image.\n",
      "Person 1:\n",
      "Gender: Woman\n",
      "Race: middle eastern\n",
      "\n"
     ]
    },
    {
     "name": "stderr",
     "output_type": "stream",
     "text": [
      "Action: race: 100%|██████████| 2/2 [00:00<00:00,  7.77it/s]  \n"
     ]
    },
    {
     "name": "stdout",
     "output_type": "stream",
     "text": [
      "There are 1 people in the image.\n",
      "Person 1:\n",
      "Gender: Woman\n",
      "Race: asian\n",
      "\n"
     ]
    },
    {
     "name": "stderr",
     "output_type": "stream",
     "text": [
      "Action: race: 100%|██████████| 2/2 [00:00<00:00,  7.73it/s]  \n"
     ]
    },
    {
     "name": "stdout",
     "output_type": "stream",
     "text": [
      "There are 1 people in the image.\n",
      "Person 1:\n",
      "Gender: Woman\n",
      "Race: asian\n",
      "\n"
     ]
    },
    {
     "name": "stderr",
     "output_type": "stream",
     "text": [
      "Action: race: 100%|██████████| 2/2 [00:00<00:00,  7.59it/s]  \n"
     ]
    },
    {
     "name": "stdout",
     "output_type": "stream",
     "text": [
      "There are 1 people in the image.\n",
      "Person 1:\n",
      "Gender: Woman\n",
      "Race: white\n",
      "\n"
     ]
    },
    {
     "name": "stderr",
     "output_type": "stream",
     "text": [
      "Action: race: 100%|██████████| 2/2 [00:00<00:00,  7.57it/s]  \n"
     ]
    },
    {
     "name": "stdout",
     "output_type": "stream",
     "text": [
      "There are 1 people in the image.\n",
      "Person 1:\n",
      "Gender: Man\n",
      "Race: white\n",
      "\n"
     ]
    },
    {
     "name": "stderr",
     "output_type": "stream",
     "text": [
      "Action: race: 100%|██████████| 2/2 [00:00<00:00,  7.78it/s]  \n"
     ]
    },
    {
     "name": "stdout",
     "output_type": "stream",
     "text": [
      "There are 1 people in the image.\n",
      "Person 1:\n",
      "Gender: Man\n",
      "Race: white\n",
      "\n"
     ]
    },
    {
     "name": "stderr",
     "output_type": "stream",
     "text": [
      "Action: race: 100%|██████████| 2/2 [00:00<00:00,  7.50it/s]  \n"
     ]
    },
    {
     "name": "stdout",
     "output_type": "stream",
     "text": [
      "There are 1 people in the image.\n",
      "Person 1:\n",
      "Gender: Man\n",
      "Race: white\n",
      "\n"
     ]
    },
    {
     "name": "stderr",
     "output_type": "stream",
     "text": [
      "Action: race: 100%|██████████| 2/2 [00:00<00:00,  7.16it/s]  \n"
     ]
    },
    {
     "name": "stdout",
     "output_type": "stream",
     "text": [
      "There are 1 people in the image.\n",
      "Person 1:\n",
      "Gender: Man\n",
      "Race: white\n",
      "\n"
     ]
    },
    {
     "name": "stderr",
     "output_type": "stream",
     "text": [
      "Action: race: 100%|██████████| 2/2 [00:00<00:00,  7.22it/s]  \n"
     ]
    },
    {
     "name": "stdout",
     "output_type": "stream",
     "text": [
      "There are 1 people in the image.\n",
      "Person 1:\n",
      "Gender: Man\n",
      "Race: black\n",
      "\n"
     ]
    },
    {
     "name": "stderr",
     "output_type": "stream",
     "text": [
      "Action: race: 100%|██████████| 2/2 [00:00<00:00,  7.29it/s]  \n"
     ]
    },
    {
     "name": "stdout",
     "output_type": "stream",
     "text": [
      "There are 1 people in the image.\n",
      "Person 1:\n",
      "Gender: Woman\n",
      "Race: white\n",
      "\n"
     ]
    },
    {
     "name": "stderr",
     "output_type": "stream",
     "text": [
      "Action: race: 100%|██████████| 2/2 [00:00<00:00,  6.49it/s]  \n"
     ]
    },
    {
     "name": "stdout",
     "output_type": "stream",
     "text": [
      "There are 1 people in the image.\n",
      "Person 1:\n",
      "Gender: Woman\n",
      "Race: asian\n",
      "\n"
     ]
    },
    {
     "name": "stderr",
     "output_type": "stream",
     "text": [
      "Action: race: 100%|██████████| 2/2 [00:00<00:00,  7.32it/s]  \n"
     ]
    },
    {
     "name": "stdout",
     "output_type": "stream",
     "text": [
      "There are 1 people in the image.\n",
      "Person 1:\n",
      "Gender: Woman\n",
      "Race: asian\n",
      "\n"
     ]
    },
    {
     "name": "stderr",
     "output_type": "stream",
     "text": [
      "Action: race: 100%|██████████| 2/2 [00:00<00:00,  7.25it/s]  \n"
     ]
    },
    {
     "name": "stdout",
     "output_type": "stream",
     "text": [
      "There are 1 people in the image.\n",
      "Person 1:\n",
      "Gender: Man\n",
      "Race: white\n",
      "\n"
     ]
    },
    {
     "name": "stderr",
     "output_type": "stream",
     "text": [
      "Action: race: 100%|██████████| 2/2 [00:00<00:00,  7.46it/s]  \n"
     ]
    },
    {
     "name": "stdout",
     "output_type": "stream",
     "text": [
      "There are 1 people in the image.\n",
      "Person 1:\n",
      "Gender: Woman\n",
      "Race: asian\n",
      "\n"
     ]
    },
    {
     "name": "stderr",
     "output_type": "stream",
     "text": [
      "Action: race: 100%|██████████| 2/2 [00:00<00:00,  7.31it/s]  \n"
     ]
    },
    {
     "name": "stdout",
     "output_type": "stream",
     "text": [
      "There are 1 people in the image.\n",
      "Person 1:\n",
      "Gender: Woman\n",
      "Race: white\n",
      "\n"
     ]
    },
    {
     "name": "stderr",
     "output_type": "stream",
     "text": [
      "Action: race: 100%|██████████| 2/2 [00:00<00:00,  7.39it/s]  \n"
     ]
    },
    {
     "name": "stdout",
     "output_type": "stream",
     "text": [
      "There are 1 people in the image.\n",
      "Person 1:\n",
      "Gender: Woman\n",
      "Race: black\n",
      "\n"
     ]
    },
    {
     "name": "stderr",
     "output_type": "stream",
     "text": [
      "Action: race: 100%|██████████| 2/2 [00:00<00:00,  7.27it/s]  \n"
     ]
    },
    {
     "name": "stdout",
     "output_type": "stream",
     "text": [
      "There are 1 people in the image.\n",
      "Person 1:\n",
      "Gender: Man\n",
      "Race: asian\n",
      "\n"
     ]
    },
    {
     "name": "stderr",
     "output_type": "stream",
     "text": [
      "Action: race: 100%|██████████| 2/2 [00:00<00:00,  7.53it/s]  \n"
     ]
    },
    {
     "name": "stdout",
     "output_type": "stream",
     "text": [
      "There are 1 people in the image.\n",
      "Person 1:\n",
      "Gender: Woman\n",
      "Race: white\n",
      "\n"
     ]
    },
    {
     "name": "stderr",
     "output_type": "stream",
     "text": [
      "Action: race: 100%|██████████| 2/2 [00:00<00:00,  7.12it/s]  \n"
     ]
    },
    {
     "name": "stdout",
     "output_type": "stream",
     "text": [
      "There are 1 people in the image.\n",
      "Person 1:\n",
      "Gender: Man\n",
      "Race: white\n",
      "\n"
     ]
    },
    {
     "name": "stderr",
     "output_type": "stream",
     "text": [
      "Action: race: 100%|██████████| 2/2 [00:00<00:00,  6.64it/s]  \n"
     ]
    },
    {
     "name": "stdout",
     "output_type": "stream",
     "text": [
      "There are 1 people in the image.\n",
      "Person 1:\n",
      "Gender: Man\n",
      "Race: black\n",
      "\n"
     ]
    },
    {
     "name": "stderr",
     "output_type": "stream",
     "text": [
      "Action: race: 100%|██████████| 2/2 [00:00<00:00,  7.28it/s]  \n"
     ]
    },
    {
     "name": "stdout",
     "output_type": "stream",
     "text": [
      "There are 1 people in the image.\n",
      "Person 1:\n",
      "Gender: Man\n",
      "Race: white\n",
      "\n"
     ]
    },
    {
     "name": "stderr",
     "output_type": "stream",
     "text": [
      "Action: race: 100%|██████████| 2/2 [00:00<00:00,  7.40it/s]  \n"
     ]
    },
    {
     "name": "stdout",
     "output_type": "stream",
     "text": [
      "There are 1 people in the image.\n",
      "Person 1:\n",
      "Gender: Man\n",
      "Race: black\n",
      "\n"
     ]
    },
    {
     "name": "stderr",
     "output_type": "stream",
     "text": [
      "Action: race: 100%|██████████| 2/2 [00:00<00:00,  7.40it/s]  \n"
     ]
    },
    {
     "name": "stdout",
     "output_type": "stream",
     "text": [
      "There are 1 people in the image.\n",
      "Person 1:\n",
      "Gender: Woman\n",
      "Race: white\n",
      "\n"
     ]
    },
    {
     "name": "stderr",
     "output_type": "stream",
     "text": [
      "Action: race: 100%|██████████| 2/2 [00:00<00:00,  6.91it/s]  \n"
     ]
    },
    {
     "name": "stdout",
     "output_type": "stream",
     "text": [
      "There are 1 people in the image.\n",
      "Person 1:\n",
      "Gender: Man\n",
      "Race: white\n",
      "\n"
     ]
    },
    {
     "name": "stderr",
     "output_type": "stream",
     "text": [
      "Action: race: 100%|██████████| 2/2 [00:00<00:00,  6.63it/s]  \n"
     ]
    },
    {
     "name": "stdout",
     "output_type": "stream",
     "text": [
      "There are 1 people in the image.\n",
      "Person 1:\n",
      "Gender: Man\n",
      "Race: white\n",
      "\n"
     ]
    },
    {
     "name": "stderr",
     "output_type": "stream",
     "text": [
      "Action: race: 100%|██████████| 2/2 [00:00<00:00,  6.74it/s]  \n",
      "Action: race: 100%|██████████| 2/2 [00:00<00:00,  6.25it/s]  \n"
     ]
    },
    {
     "name": "stdout",
     "output_type": "stream",
     "text": [
      "There are 2 people in the image.\n",
      "Person 1:\n",
      "Gender: Man\n",
      "Race: asian\n",
      "\n",
      "Person 2:\n",
      "Gender: Woman\n",
      "Race: white\n",
      "\n"
     ]
    },
    {
     "name": "stderr",
     "output_type": "stream",
     "text": [
      "Action: race: 100%|██████████| 2/2 [00:00<00:00,  6.30it/s]  \n"
     ]
    },
    {
     "name": "stdout",
     "output_type": "stream",
     "text": [
      "There are 1 people in the image.\n",
      "Person 1:\n",
      "Gender: Woman\n",
      "Race: white\n",
      "\n"
     ]
    },
    {
     "name": "stderr",
     "output_type": "stream",
     "text": [
      "Action: race: 100%|██████████| 2/2 [00:00<00:00,  7.36it/s]  \n"
     ]
    },
    {
     "name": "stdout",
     "output_type": "stream",
     "text": [
      "There are 1 people in the image.\n",
      "Person 1:\n",
      "Gender: Man\n",
      "Race: asian\n",
      "\n"
     ]
    },
    {
     "name": "stderr",
     "output_type": "stream",
     "text": [
      "Action: race: 100%|██████████| 2/2 [00:00<00:00,  6.51it/s]  \n"
     ]
    },
    {
     "name": "stdout",
     "output_type": "stream",
     "text": [
      "There are 1 people in the image.\n",
      "Person 1:\n",
      "Gender: Man\n",
      "Race: asian\n",
      "\n"
     ]
    },
    {
     "name": "stderr",
     "output_type": "stream",
     "text": [
      "Action: race: 100%|██████████| 2/2 [00:00<00:00,  7.53it/s]  \n"
     ]
    },
    {
     "name": "stdout",
     "output_type": "stream",
     "text": [
      "There are 1 people in the image.\n",
      "Person 1:\n",
      "Gender: Woman\n",
      "Race: white\n",
      "\n"
     ]
    },
    {
     "name": "stderr",
     "output_type": "stream",
     "text": [
      "Action: race: 100%|██████████| 2/2 [00:00<00:00,  7.35it/s]  "
     ]
    },
    {
     "name": "stdout",
     "output_type": "stream",
     "text": [
      "There are 1 people in the image.\n",
      "Person 1:\n",
      "Gender: Man\n",
      "Race: asian\n",
      "\n",
      "                     job numOfJobpic  num_people Gender   Race\n",
      "0     Software Developer          01         NaN    NaN    NaN\n",
      "1     Software Developer          02         NaN    NaN    NaN\n",
      "2     Software Developer          03         NaN    NaN    NaN\n",
      "3     Software Developer          04         NaN    NaN    NaN\n",
      "4     Software Developer          05         NaN    NaN    NaN\n",
      "...                  ...         ...         ...    ...    ...\n",
      "1007         Interpreter          16         NaN    NaN    NaN\n",
      "1008         Interpreter          17         NaN    NaN    NaN\n",
      "1009         Interpreter          18         1.0    Man  asian\n",
      "1010         Interpreter          19         NaN    NaN    NaN\n",
      "1011         Interpreter          20         NaN    NaN    NaN\n",
      "\n",
      "[1012 rows x 5 columns]\n"
     ]
    },
    {
     "name": "stderr",
     "output_type": "stream",
     "text": [
      "\n"
     ]
    }
   ],
   "source": [
    "# 직업이름모음\n",
    "df_job = pd.read_csv(\"../DATA/job.csv\")\n",
    "mini_df_job = df_job.head(3)\n",
    "\n",
    "res_df = pd.DataFrame()\n",
    "for i in range(0,len(df_job)):\n",
    "    # 두 DataFrame을 수직으로 결합합니다.\n",
    "    res_df = pd.concat([res_df, img2df(i)], ignore_index=True)\n",
    "\n",
    "# 결과를 출력합니다.\n",
    "print(res_df)"
   ]
  },
  {
   "cell_type": "code",
   "execution_count": 14,
   "metadata": {},
   "outputs": [],
   "source": [
    "res_df.to_csv('../DATA/result_FaceDetect.csv', index=False)"
   ]
  },
  {
   "cell_type": "code",
   "execution_count": null,
   "metadata": {},
   "outputs": [],
   "source": []
  }
 ],
 "metadata": {
  "kernelspec": {
   "display_name": "Python 3",
   "language": "python",
   "name": "python3"
  },
  "language_info": {
   "codemirror_mode": {
    "name": "ipython",
    "version": 3
   },
   "file_extension": ".py",
   "mimetype": "text/x-python",
   "name": "python",
   "nbconvert_exporter": "python",
   "pygments_lexer": "ipython3",
   "version": "3.9.6"
  },
  "orig_nbformat": 4
 },
 "nbformat": 4,
 "nbformat_minor": 2
}
