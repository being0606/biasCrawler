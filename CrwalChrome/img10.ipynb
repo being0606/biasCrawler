{
 "cells": [
  {
   "cell_type": "code",
   "execution_count": null,
   "metadata": {},
   "outputs": [],
   "source": [
    "pip install beautifulsoup4 requests\n",
    "pip install lxml"
   ]
  },
  {
   "cell_type": "code",
   "execution_count": 3,
   "metadata": {},
   "outputs": [],
   "source": [
    "import os\n",
    "from time import sleep\n",
    "import tqdm\n",
    "\n",
    "import pandas as pd\n",
    "\n",
    "from selenium import webdriver\n",
    "from bs4 import BeautifulSoup"
   ]
  },
  {
   "cell_type": "code",
   "execution_count": 5,
   "metadata": {},
   "outputs": [
    {
     "name": "stdout",
     "output_type": "stream",
     "text": [
      "CSV load complete\n",
      "                 keyword                                        base64_data\n",
      "0     Software Developer  data:image/jpeg;base64,/9j/4AAQSkZJRgABAQAAAQA...\n",
      "1     Software Developer  data:image/jpeg;base64,/9j/4AAQSkZJRgABAQAAAQA...\n",
      "2     Software Developer  data:image/jpeg;base64,/9j/4AAQSkZJRgABAQAAAQA...\n",
      "3     Software Developer  data:image/jpeg;base64,/9j/4AAQSkZJRgABAQAAAQA...\n",
      "4     Software Developer  data:image/jpeg;base64,/9j/4AAQSkZJRgABAQAAAQA...\n",
      "...                  ...                                                ...\n",
      "2034         Interpreter  https://encrypted-tbn0.gstatic.com/images?q=tb...\n",
      "2035         Interpreter  https://encrypted-tbn0.gstatic.com/images?q=tb...\n",
      "2036         Interpreter  https://encrypted-tbn0.gstatic.com/images?q=tb...\n",
      "2037         Interpreter  https://encrypted-tbn0.gstatic.com/images?q=tb...\n",
      "2038         Interpreter  https://encrypted-tbn0.gstatic.com/images?q=tb...\n",
      "\n",
      "[2039 rows x 2 columns]\n",
      "DONE!\n"
     ]
    }
   ],
   "source": [
    "# CSV 파일 로드\n",
    "df = pd.read_csv('../DATA/job.csv')\n",
    "mini_df = df.head(3)\n",
    "print(\"CSV load complete\")\n",
    "\n",
    "# 결과를 저장할 DataFrame 초기화\n",
    "result_df = pd.DataFrame(columns=['keyword', 'base64_data'])\n",
    "\n",
    "# START!\n",
    "for _ in df['English']:\n",
    "    KEYWORD = _\n",
    "    URL = \"https://google.com/search?q=\"+KEYWORD+\"&tbm=isch\"\n",
    "\n",
    "    # 웹 드라이버 생성\n",
    "    driver = webdriver.Chrome()\n",
    "\n",
    "    # 링크 열기\n",
    "    driver.get(URL)\n",
    "    driver.fullscreen_window()\n",
    "\n",
    "    sleep(1.5)\n",
    "\n",
    "    # 페이지의 HTML 가져오기\n",
    "    html = driver.page_source\n",
    "\n",
    "    # BeautifulSoup으로 파싱\n",
    "    soup = BeautifulSoup(html, 'lxml')\n",
    "\n",
    "    # 클래스 이름을 사용하여 모든 이미지 태그를 선택합니다.\n",
    "    img_tags = soup.find_all('img', class_='rg_i Q4LuWd')\n",
    "\n",
    "    # 각 이미지의 Base64 데이터를 임시 DataFrame에 저장합니다.\n",
    "    temp_data = []\n",
    "    for img_tag in img_tags:\n",
    "        if 'src' in img_tag.attrs:\n",
    "            base64_data = img_tag['src']\n",
    "            temp_data.append({'keyword': KEYWORD, 'base64_data': base64_data})\n",
    "\n",
    "    temp_df = pd.DataFrame(temp_data)\n",
    "    result_df = pd.concat([result_df, temp_df], ignore_index=True)\n",
    "\n",
    "    # 스크린샷 찍기\n",
    "    directory_path = '../DATA/screenshot/' + KEYWORD \n",
    "    screenshot_path = directory_path + '/job_'+KEYWORD+'_img00.png'\n",
    "    if not os.path.exists(directory_path):\n",
    "        os.makedirs(directory_path)\n",
    "    driver.save_screenshot(screenshot_path)\n",
    "\n",
    "    # 페이지 종료\n",
    "    driver.quit()\n",
    "# 결과 출력\n",
    "print(result_df)\n",
    "\n",
    "# 결과를 CSV 파일로 저장 (선택사항)\n",
    "result_df.to_csv('../DATA/result_base64_data.csv', index=False)\n",
    "print(\"DONE!\")"
   ]
  },
  {
   "cell_type": "code",
   "execution_count": null,
   "metadata": {},
   "outputs": [],
   "source": []
  }
 ],
 "metadata": {
  "kernelspec": {
   "display_name": "Python 3",
   "language": "python",
   "name": "python3"
  },
  "language_info": {
   "codemirror_mode": {
    "name": "ipython",
    "version": 3
   },
   "file_extension": ".py",
   "mimetype": "text/x-python",
   "name": "python",
   "nbconvert_exporter": "python",
   "pygments_lexer": "ipython3",
   "version": "3.9.6"
  },
  "orig_nbformat": 4
 },
 "nbformat": 4,
 "nbformat_minor": 2
}
