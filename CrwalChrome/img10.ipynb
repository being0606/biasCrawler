{
 "cells": [
  {
   "cell_type": "code",
   "execution_count": null,
   "metadata": {},
   "outputs": [],
   "source": [
    "pip install beautifulsoup4 requests\n",
    "pip install lxml"
   ]
  },
  {
   "cell_type": "code",
   "execution_count": null,
   "metadata": {},
   "outputs": [],
   "source": [
    "from time import sleep\n",
    "import tqdm\n",
    "\n",
    "import pandas as pd\n",
    "\n",
    "from selenium import webdriver\n",
    "from bs4 import BeautifulSoup"
   ]
  },
  {
   "cell_type": "code",
   "execution_count": null,
   "metadata": {},
   "outputs": [],
   "source": [
    "# CSV 파일 로드\n",
    "df = pd.read_csv('../DATA/job.csv')\n",
    "mini_df = df.head()\n",
    "print(\"CSV load complete\")\n",
    "\n",
    "# START!\n",
    "for _ in mini_df['English']:\n",
    "    KEYWORD = _\n",
    "    URL = \"https://google.com/search?q=\"+KEYWORD+\"&tbm=isch\"\n",
    "\n",
    "    # 웹 드라이버 생성\n",
    "    driver = webdriver.Chrome()\n",
    "\n",
    "    # 링크 열기\n",
    "    driver.get(URL)\n",
    "    driver.fullscreen_window()\n",
    "\n",
    "    # 페이지의 HTML 가져오기\n",
    "    html = driver.page_source\n",
    "\n",
    "    # BeautifulSoup으로 파싱\n",
    "    soup = BeautifulSoup(html, 'lxml')\n",
    "\n",
    "    # 클래스 이름을 사용하여 이미지 태그를 선택합니다.\n",
    "    img_tag = soup.find('img', class_='rg_i Q4LuWd')\n",
    "\n",
    "    # 이미지의 Base64 데이터를 가져옵니다.\n",
    "    if img_tag and 'src' in img_tag.attrs:\n",
    "        base64_data = img_tag['src']\n",
    "        print(f\"이미지의 Base64 데이터: {base64_data}\")\n",
    "    else:\n",
    "        print(\"이미지를 찾을 수 없습니다.\")\n",
    "\n",
    "    # 스크린샷 찍기\n",
    "    screenshot_path = '../screenshot/job_' + KEYWORD + '.png'\n",
    "    driver.save_screenshot(screenshot_path)\n",
    "\n",
    "    # 페이지 종료\n",
    "    driver.quit()\n"
   ]
  }
 ],
 "metadata": {
  "kernelspec": {
   "display_name": "Python 3",
   "language": "python",
   "name": "python3"
  },
  "language_info": {
   "codemirror_mode": {
    "name": "ipython",
    "version": 3
   },
   "file_extension": ".py",
   "mimetype": "text/x-python",
   "name": "python",
   "nbconvert_exporter": "python",
   "pygments_lexer": "ipython3",
   "version": "3.9.6"
  },
  "orig_nbformat": 4
 },
 "nbformat": 4,
 "nbformat_minor": 2
}
