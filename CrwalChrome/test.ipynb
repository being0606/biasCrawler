{
 "cells": [
  {
   "attachments": {},
   "cell_type": "markdown",
   "metadata": {},
   "source": [
    "# google image crwaler\n",
    "\n",
    "### Contributor: Lim Hyun Jin\n",
    "### Contact: onuhjin (at) gmail (dot) com\n",
    "### Last Updated @2023-09-22\n",
    "\n",
    "### referance : https://data-ssung.tistory.com/129\n",
    "### version : python 3.9.6"
   ]
  },
  {
   "attachments": {},
   "cell_type": "markdown",
   "metadata": {},
   "source": [
    "abstract : selenium을 이용해서 유튜브 검색창에 검색어 입력후, 자동으로 스크롤을 내리고 제목/링크 등을 파싱하여 df에 저장"
   ]
  },
  {
   "attachments": {},
   "cell_type": "markdown",
   "metadata": {},
   "source": [
    "step 1 패키지 준비 및 세팅"
   ]
  },
  {
   "cell_type": "code",
   "execution_count": null,
   "metadata": {},
   "outputs": [],
   "source": [
    "pip install tqdm\n",
    "pip install pandas\n",
    "pip install selenium"
   ]
  },
  {
   "attachments": {},
   "cell_type": "markdown",
   "metadata": {},
   "source": [
    "2. 검색 후 자료 긁어오기"
   ]
  },
  {
   "cell_type": "code",
   "execution_count": 158,
   "metadata": {},
   "outputs": [],
   "source": [
    "from time import sleep\n",
    "\n",
    "import pandas as pd\n",
    "import tqdm\n",
    "\n",
    "from selenium import webdriver"
   ]
  },
  {
   "cell_type": "code",
   "execution_count": 159,
   "metadata": {},
   "outputs": [
    {
     "name": "stdout",
     "output_type": "stream",
     "text": [
      "               English     Korean\n",
      "0   Software Developer  소프트웨어 개발자\n",
      "1       Data Scientist    데이터 과학자\n",
      "2  Mechanical Engineer     기계 공학자\n",
      "3       Civil Engineer    토목 엔지니어\n",
      "4  Electrical Engineer    전기 엔지니어\n"
     ]
    }
   ],
   "source": [
    "# CSV 파일 로드\n",
    "df = pd.read_csv('../DATA/job.csv')\n",
    "\n",
    "# 처음 5행 출력\n",
    "print(df.head())"
   ]
  },
  {
   "cell_type": "code",
   "execution_count": 160,
   "metadata": {},
   "outputs": [
    {
     "data": {
      "text/html": [
       "<div>\n",
       "<style scoped>\n",
       "    .dataframe tbody tr th:only-of-type {\n",
       "        vertical-align: middle;\n",
       "    }\n",
       "\n",
       "    .dataframe tbody tr th {\n",
       "        vertical-align: top;\n",
       "    }\n",
       "\n",
       "    .dataframe thead th {\n",
       "        text-align: right;\n",
       "    }\n",
       "</style>\n",
       "<table border=\"1\" class=\"dataframe\">\n",
       "  <thead>\n",
       "    <tr style=\"text-align: right;\">\n",
       "      <th></th>\n",
       "      <th>English</th>\n",
       "      <th>Korean</th>\n",
       "    </tr>\n",
       "  </thead>\n",
       "  <tbody>\n",
       "    <tr>\n",
       "      <th>0</th>\n",
       "      <td>Software Developer</td>\n",
       "      <td>소프트웨어 개발자</td>\n",
       "    </tr>\n",
       "    <tr>\n",
       "      <th>1</th>\n",
       "      <td>Data Scientist</td>\n",
       "      <td>데이터 과학자</td>\n",
       "    </tr>\n",
       "    <tr>\n",
       "      <th>2</th>\n",
       "      <td>Mechanical Engineer</td>\n",
       "      <td>기계 공학자</td>\n",
       "    </tr>\n",
       "    <tr>\n",
       "      <th>3</th>\n",
       "      <td>Civil Engineer</td>\n",
       "      <td>토목 엔지니어</td>\n",
       "    </tr>\n",
       "    <tr>\n",
       "      <th>4</th>\n",
       "      <td>Electrical Engineer</td>\n",
       "      <td>전기 엔지니어</td>\n",
       "    </tr>\n",
       "  </tbody>\n",
       "</table>\n",
       "</div>"
      ],
      "text/plain": [
       "               English     Korean\n",
       "0   Software Developer  소프트웨어 개발자\n",
       "1       Data Scientist    데이터 과학자\n",
       "2  Mechanical Engineer     기계 공학자\n",
       "3       Civil Engineer    토목 엔지니어\n",
       "4  Electrical Engineer    전기 엔지니어"
      ]
     },
     "execution_count": 160,
     "metadata": {},
     "output_type": "execute_result"
    }
   ],
   "source": [
    "mini_df = df.head()\n",
    "mini_df"
   ]
  },
  {
   "cell_type": "code",
   "execution_count": 161,
   "metadata": {},
   "outputs": [
    {
     "name": "stdout",
     "output_type": "stream",
     "text": [
      "DONE!\n"
     ]
    }
   ],
   "source": [
    "for _ in mini_df['English']:\n",
    "    KEYWORD = _\n",
    "    URL = \"https://google.com/search?q=\"+KEYWORD+\"&tbm=isch\"\n",
    "\n",
    "    # 웹 드라이버 생성\n",
    "    driver = webdriver.Chrome()\n",
    "\n",
    "    # 링크 열기\n",
    "    driver.get(URL)\n",
    "    driver.fullscreen_window()\n",
    "\n",
    "    # 스크린샷 찍기\n",
    "    screenshot_path = '../FaceDector/screenshot/job_' + KEYWORD + '.png'\n",
    "    driver.save_screenshot(screenshot_path)\n",
    "\n",
    "    # 페이지 종료\n",
    "    driver.quit()\n",
    "print(\"DONE!\")\n"
   ]
  },
  {
   "cell_type": "code",
   "execution_count": null,
   "metadata": {},
   "outputs": [],
   "source": []
  },
  {
   "cell_type": "code",
   "execution_count": null,
   "metadata": {},
   "outputs": [],
   "source": [
    "###########\n",
    "슈별 찾았다 : class : 'rg_i Q4LuWd'\n",
    "fR600b islir"
   ]
  }
 ],
 "metadata": {
  "kernelspec": {
   "display_name": "Python 3",
   "language": "python",
   "name": "python3"
  },
  "language_info": {
   "codemirror_mode": {
    "name": "ipython",
    "version": 3
   },
   "file_extension": ".py",
   "mimetype": "text/x-python",
   "name": "python",
   "nbconvert_exporter": "python",
   "pygments_lexer": "ipython3",
   "version": "3.9.6"
  },
  "orig_nbformat": 4
 },
 "nbformat": 4,
 "nbformat_minor": 2
}
