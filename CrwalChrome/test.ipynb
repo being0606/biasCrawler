{
 "cells": [
  {
   "attachments": {},
   "cell_type": "markdown",
   "metadata": {},
   "source": [
    "# google image crwaler\n",
    "\n",
    "### Contributor: Lim Hyun Jin\n",
    "### Contact: onuhjin (at) gmail (dot) com\n",
    "### Last Updated @2023-09-22\n",
    "\n",
    "### referance : https://data-ssung.tistory.com/129\n",
    "### version : python 3.9.6"
   ]
  },
  {
   "attachments": {},
   "cell_type": "markdown",
   "metadata": {},
   "source": [
    "abstract : selenium을 이용해서 유튜브 검색창에 검색어 입력후, 자동으로 스크롤을 내리고 제목/링크 등을 파싱하여 df에 저장"
   ]
  },
  {
   "attachments": {},
   "cell_type": "markdown",
   "metadata": {},
   "source": [
    "step 1 패키지 준비 및 세팅"
   ]
  },
  {
   "cell_type": "code",
   "execution_count": 152,
   "metadata": {},
   "outputs": [
    {
     "name": "stdout",
     "output_type": "stream",
     "text": [
      "Defaulting to user installation because normal site-packages is not writeable\n",
      "Collecting tqdm\n",
      "  Downloading tqdm-4.66.1-py3-none-any.whl (78 kB)\n",
      "\u001b[K     |████████████████████████████████| 78 kB 1.9 MB/s eta 0:00:01\n",
      "\u001b[?25hInstalling collected packages: tqdm\n",
      "Successfully installed tqdm-4.66.1\n",
      "\u001b[33mWARNING: You are using pip version 21.2.4; however, version 23.2.1 is available.\n",
      "You should consider upgrading via the '/Applications/Xcode.app/Contents/Developer/usr/bin/python3 -m pip install --upgrade pip' command.\u001b[0m\n",
      "Note: you may need to restart the kernel to use updated packages.\n"
     ]
    }
   ],
   "source": []
  },
  {
   "cell_type": "code",
   "execution_count": null,
   "metadata": {},
   "outputs": [],
   "source": [
    "pip install tqdm\n",
    "pip install pandas\n",
    "pip install selenium"
   ]
  },
  {
   "attachments": {},
   "cell_type": "markdown",
   "metadata": {},
   "source": [
    "2. 검색 후 자료 긁어오기"
   ]
  },
  {
   "cell_type": "code",
   "execution_count": 82,
   "metadata": {},
   "outputs": [],
   "source": [
    "from time import sleep\n",
    "\n",
    "import pandas as pd\n",
    "\n",
    "from selenium import webdriver"
   ]
  },
  {
   "cell_type": "code",
   "execution_count": 143,
   "metadata": {},
   "outputs": [
    {
     "name": "stdout",
     "output_type": "stream",
     "text": [
      "               English     Korean\n",
      "0   Software Developer  소프트웨어 개발자\n",
      "1       Data Scientist    데이터 과학자\n",
      "2  Mechanical Engineer     기계 공학자\n",
      "3       Civil Engineer    토목 엔지니어\n",
      "4  Electrical Engineer    전기 엔지니어\n"
     ]
    }
   ],
   "source": [
    "import pandas as pd\n",
    "\n",
    "# CSV 파일 로드\n",
    "df = pd.read_csv('../DATA/job.csv')\n",
    "\n",
    "# 처음 5행 출력\n",
    "print(df.head())\n"
   ]
  },
  {
   "cell_type": "code",
   "execution_count": 145,
   "metadata": {},
   "outputs": [
    {
     "data": {
      "text/html": [
       "<div>\n",
       "<style scoped>\n",
       "    .dataframe tbody tr th:only-of-type {\n",
       "        vertical-align: middle;\n",
       "    }\n",
       "\n",
       "    .dataframe tbody tr th {\n",
       "        vertical-align: top;\n",
       "    }\n",
       "\n",
       "    .dataframe thead th {\n",
       "        text-align: right;\n",
       "    }\n",
       "</style>\n",
       "<table border=\"1\" class=\"dataframe\">\n",
       "  <thead>\n",
       "    <tr style=\"text-align: right;\">\n",
       "      <th></th>\n",
       "      <th>English</th>\n",
       "      <th>Korean</th>\n",
       "    </tr>\n",
       "  </thead>\n",
       "  <tbody>\n",
       "    <tr>\n",
       "      <th>0</th>\n",
       "      <td>Software Developer</td>\n",
       "      <td>소프트웨어 개발자</td>\n",
       "    </tr>\n",
       "    <tr>\n",
       "      <th>1</th>\n",
       "      <td>Data Scientist</td>\n",
       "      <td>데이터 과학자</td>\n",
       "    </tr>\n",
       "    <tr>\n",
       "      <th>2</th>\n",
       "      <td>Mechanical Engineer</td>\n",
       "      <td>기계 공학자</td>\n",
       "    </tr>\n",
       "    <tr>\n",
       "      <th>3</th>\n",
       "      <td>Civil Engineer</td>\n",
       "      <td>토목 엔지니어</td>\n",
       "    </tr>\n",
       "    <tr>\n",
       "      <th>4</th>\n",
       "      <td>Electrical Engineer</td>\n",
       "      <td>전기 엔지니어</td>\n",
       "    </tr>\n",
       "  </tbody>\n",
       "</table>\n",
       "</div>"
      ],
      "text/plain": [
       "               English     Korean\n",
       "0   Software Developer  소프트웨어 개발자\n",
       "1       Data Scientist    데이터 과학자\n",
       "2  Mechanical Engineer     기계 공학자\n",
       "3       Civil Engineer    토목 엔지니어\n",
       "4  Electrical Engineer    전기 엔지니어"
      ]
     },
     "execution_count": 145,
     "metadata": {},
     "output_type": "execute_result"
    }
   ],
   "source": [
    "mini_df = df.head()\n",
    "mini_df"
   ]
  },
  {
   "cell_type": "code",
   "execution_count": 149,
   "metadata": {},
   "outputs": [
    {
     "name": "stdout",
     "output_type": "stream",
     "text": [
      "https://google.com/search?q=Software Developer&tbm=isch\n",
      "https://google.com/search?q=Data Scientist&tbm=isch\n",
      "https://google.com/search?q=Mechanical Engineer&tbm=isch\n",
      "https://google.com/search?q=Civil Engineer&tbm=isch\n",
      "https://google.com/search?q=Electrical Engineer&tbm=isch\n",
      "https://google.com/search?q=Nurse&tbm=isch\n",
      "https://google.com/search?q=Doctor&tbm=isch\n",
      "https://google.com/search?q=Pharmacist&tbm=isch\n",
      "https://google.com/search?q=Dentist&tbm=isch\n",
      "https://google.com/search?q=Physical Therapist&tbm=isch\n",
      "https://google.com/search?q=Occupational Therapist&tbm=isch\n",
      "https://google.com/search?q=Speech Therapist&tbm=isch\n",
      "https://google.com/search?q=Psychologist&tbm=isch\n",
      "https://google.com/search?q=Psychiatrist&tbm=isch\n",
      "https://google.com/search?q=Veterinarian&tbm=isch\n",
      "https://google.com/search?q=Biomedical Engineer&tbm=isch\n",
      "https://google.com/search?q=Research Scientist&tbm=isch\n",
      "https://google.com/search?q=Lab Technician&tbm=isch\n",
      "https://google.com/search?q=Radiologic Technologist&tbm=isch\n",
      "https://google.com/search?q=Nutritionist&tbm=isch\n",
      "https://google.com/search?q=Dietitian&tbm=isch\n",
      "https://google.com/search?q=Personal Trainer&tbm=isch\n",
      "https://google.com/search?q=Yoga Instructor&tbm=isch\n",
      "https://google.com/search?q=Pilates Instructor&tbm=isch\n",
      "https://google.com/search?q=Graphic Designer&tbm=isch\n",
      "https://google.com/search?q=Web Designer&tbm=isch\n",
      "https://google.com/search?q=UX/UI Designer&tbm=isch\n",
      "https://google.com/search?q=Interior Designer&tbm=isch\n",
      "https://google.com/search?q=Architect&tbm=isch\n",
      "https://google.com/search?q=Landscape Architect&tbm=isch\n",
      "https://google.com/search?q=Real Estate Agent&tbm=isch\n",
      "https://google.com/search?q=Financial Advisor&tbm=isch\n",
      "https://google.com/search?q=Accountant&tbm=isch\n",
      "https://google.com/search?q=Banker&tbm=isch\n",
      "https://google.com/search?q=Insurance Agent&tbm=isch\n",
      "https://google.com/search?q=Actuary&tbm=isch\n",
      "https://google.com/search?q=Statistician&tbm=isch\n",
      "https://google.com/search?q=Economist&tbm=isch\n",
      "https://google.com/search?q=Historian&tbm=isch\n",
      "https://google.com/search?q=Geologist&tbm=isch\n",
      "https://google.com/search?q=Meteorologist&tbm=isch\n",
      "https://google.com/search?q=Environmental Scientist&tbm=isch\n",
      "https://google.com/search?q=Marine Biologist&tbm=isch\n",
      "https://google.com/search?q=Zoologist&tbm=isch\n",
      "https://google.com/search?q=Botanist&tbm=isch\n",
      "https://google.com/search?q=Teacher&tbm=isch\n",
      "https://google.com/search?q=College Professor&tbm=isch\n",
      "https://google.com/search?q=School Counselor&tbm=isch\n",
      "https://google.com/search?q=Librarian&tbm=isch\n",
      "https://google.com/search?q=Translator&tbm=isch\n",
      "https://google.com/search?q=Interpreter&tbm=isch\n"
     ]
    }
   ],
   "source": [
    "for _ in df['English'] :\n",
    "    KEYWORD = _\n",
    "    URL = \"https://google.com/search?q=\"+KEYWORD+\"&tbm=isch\"\n",
    "\n",
    "    # 웹 드라이버 생성\n",
    "    driver = webdriver.Chrome()\n",
    "\n",
    "    # 링크 열기\n",
    "    driver.get(URL)\n",
    "    driver.fullscreen_window()\n",
    "    # 스크린샷 찍기\n",
    "    screenshot_path = '../screenshot/' + KEYWORD + '.png'\n",
    "    driver.save_screenshot(screenshot_path)\n",
    "\n",
    "    # 페이지 종료\n",
    "    driver.quit()\n"
   ]
  },
  {
   "cell_type": "code",
   "execution_count": 128,
   "metadata": {},
   "outputs": [],
   "source": []
  },
  {
   "cell_type": "code",
   "execution_count": null,
   "metadata": {},
   "outputs": [],
   "source": []
  },
  {
   "cell_type": "code",
   "execution_count": null,
   "metadata": {},
   "outputs": [],
   "source": []
  }
 ],
 "metadata": {
  "kernelspec": {
   "display_name": "Python 3",
   "language": "python",
   "name": "python3"
  },
  "language_info": {
   "codemirror_mode": {
    "name": "ipython",
    "version": 3
   },
   "file_extension": ".py",
   "mimetype": "text/x-python",
   "name": "python",
   "nbconvert_exporter": "python",
   "pygments_lexer": "ipython3",
   "version": "3.9.6"
  },
  "orig_nbformat": 4
 },
 "nbformat": 4,
 "nbformat_minor": 2
}
