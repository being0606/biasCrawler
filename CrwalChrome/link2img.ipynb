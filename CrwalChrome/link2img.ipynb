{
 "cells": [
  {
   "cell_type": "markdown",
   "metadata": {},
   "source": [
    "실험중"
   ]
  },
  {
   "cell_type": "code",
   "execution_count": null,
   "metadata": {},
   "outputs": [],
   "source": [
    "import requests\n",
    "from PIL import Image\n",
    "import base64\n",
    "from io import BytesIO\n",
    "\n",
    "def save_image_from_url(url, save_path):\n",
    "    # Data URL인 경우\n",
    "    if url.startswith(\"data:image\"):\n",
    "        # Data URL의 헤더 부분을 제거하고 이미지 데이터만 추출합니다.\n",
    "        base64_data = url.split(\",\")[1]\n",
    "        \n",
    "        # Base64 데이터를 디코딩합니다.\n",
    "        image_data = base64.b64decode(base64_data)\n",
    "        \n",
    "        # BytesIO를 사용하여 바이트 데이터를 이미지로 변환합니다.\n",
    "        image = Image.open(BytesIO(image_data))\n",
    "        \n",
    "        # 이미지 저장\n",
    "        image.save(save_path)\n",
    "\n",
    "    # http:// 또는 https://로 시작하는 URL인 경우\n",
    "    elif url.startswith(\"http://\") or url.startswith(\"https://\"):\n",
    "        response = requests.get(url)\n",
    "        with open(save_path, 'wb') as file:\n",
    "            file.write(response.content)\n",
    "\n",
    "    else:\n",
    "        print(f\"Unsupported URL format: {url}\")\n",
    "\n",
    "# 예제\n",
    "data_url = \"data:image/jpeg;base64,/9j/4AAQSkZJRgABAQA...\"\n",
    "http_url = \"https://example.com/path/to/image.jpg\"\n",
    "\n",
    "save_image_from_url(data_url, \"path_to_save_for_data_url_image.jpg\")\n",
    "save_image_from_url(http_url, \"path_to_save_for_http_url_image.jpg\")"
   ]
  }
 ],
 "metadata": {
  "language_info": {
   "name": "python"
  },
  "orig_nbformat": 4
 },
 "nbformat": 4,
 "nbformat_minor": 2
}
