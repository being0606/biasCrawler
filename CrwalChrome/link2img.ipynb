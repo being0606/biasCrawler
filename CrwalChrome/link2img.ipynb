{
 "cells": [
  {
   "cell_type": "code",
   "execution_count": 5,
   "metadata": {},
   "outputs": [],
   "source": [
    "import requests\n",
    "from PIL import Image\n",
    "import base64\n",
    "from io import BytesIO\n",
    "import pandas as pd"
   ]
  },
  {
   "cell_type": "code",
   "execution_count": 6,
   "metadata": {},
   "outputs": [],
   "source": [
    "def save_image_from_url(url, save_path):\n",
    "    # Data URL인 경우\n",
    "    if url.startswith(\"data:image\"):\n",
    "        # Data URL의 헤더 부분을 제거하고 이미지 데이터만 추출합니다.\n",
    "        base64_data = url.split(\",\")[1]\n",
    "        \n",
    "        # Base64 데이터를 디코딩합니다.\n",
    "        image_data = base64.b64decode(base64_data)\n",
    "        \n",
    "        # BytesIO를 사용하여 바이트 데이터를 이미지로 변환합니다.\n",
    "        image = Image.open(BytesIO(image_data))\n",
    "        \n",
    "        # 이미지 저장\n",
    "        image.save(save_path)\n",
    "\n",
    "    # http:// 또는 https://로 시작하는 URL인 경우\n",
    "    elif url.startswith(\"http://\") or url.startswith(\"https://\"):\n",
    "        response = requests.get(url)\n",
    "        with open(save_path, 'wb') as file:\n",
    "            file.write(response.content)\n",
    "\n",
    "    else:\n",
    "        print(f\"Unsupported URL format: {url}\")"
   ]
  },
  {
   "cell_type": "code",
   "execution_count": 9,
   "metadata": {},
   "outputs": [
    {
     "data": {
      "text/html": [
       "<div>\n",
       "<style scoped>\n",
       "    .dataframe tbody tr th:only-of-type {\n",
       "        vertical-align: middle;\n",
       "    }\n",
       "\n",
       "    .dataframe tbody tr th {\n",
       "        vertical-align: top;\n",
       "    }\n",
       "\n",
       "    .dataframe thead th {\n",
       "        text-align: right;\n",
       "    }\n",
       "</style>\n",
       "<table border=\"1\" class=\"dataframe\">\n",
       "  <thead>\n",
       "    <tr style=\"text-align: right;\">\n",
       "      <th></th>\n",
       "      <th>keyword</th>\n",
       "      <th>base64_data</th>\n",
       "    </tr>\n",
       "  </thead>\n",
       "  <tbody>\n",
       "    <tr>\n",
       "      <th>0</th>\n",
       "      <td>Software Developer</td>\n",
       "      <td>data:image/jpeg;base64,/9j/4AAQSkZJRgABAQAAAQA...</td>\n",
       "    </tr>\n",
       "    <tr>\n",
       "      <th>1</th>\n",
       "      <td>Software Developer</td>\n",
       "      <td>data:image/jpeg;base64,/9j/4AAQSkZJRgABAQAAAQA...</td>\n",
       "    </tr>\n",
       "    <tr>\n",
       "      <th>2</th>\n",
       "      <td>Software Developer</td>\n",
       "      <td>data:image/jpeg;base64,/9j/4AAQSkZJRgABAQAAAQA...</td>\n",
       "    </tr>\n",
       "    <tr>\n",
       "      <th>3</th>\n",
       "      <td>Software Developer</td>\n",
       "      <td>data:image/jpeg;base64,/9j/4AAQSkZJRgABAQAAAQA...</td>\n",
       "    </tr>\n",
       "    <tr>\n",
       "      <th>4</th>\n",
       "      <td>Software Developer</td>\n",
       "      <td>data:image/jpeg;base64,/9j/4AAQSkZJRgABAQAAAQA...</td>\n",
       "    </tr>\n",
       "    <tr>\n",
       "      <th>...</th>\n",
       "      <td>...</td>\n",
       "      <td>...</td>\n",
       "    </tr>\n",
       "    <tr>\n",
       "      <th>2043</th>\n",
       "      <td>Interpreter</td>\n",
       "      <td>https://encrypted-tbn0.gstatic.com/images?q=tb...</td>\n",
       "    </tr>\n",
       "    <tr>\n",
       "      <th>2044</th>\n",
       "      <td>Interpreter</td>\n",
       "      <td>https://encrypted-tbn0.gstatic.com/images?q=tb...</td>\n",
       "    </tr>\n",
       "    <tr>\n",
       "      <th>2045</th>\n",
       "      <td>Interpreter</td>\n",
       "      <td>https://encrypted-tbn0.gstatic.com/images?q=tb...</td>\n",
       "    </tr>\n",
       "    <tr>\n",
       "      <th>2046</th>\n",
       "      <td>Interpreter</td>\n",
       "      <td>https://encrypted-tbn0.gstatic.com/images?q=tb...</td>\n",
       "    </tr>\n",
       "    <tr>\n",
       "      <th>2047</th>\n",
       "      <td>Interpreter</td>\n",
       "      <td>https://encrypted-tbn0.gstatic.com/images?q=tb...</td>\n",
       "    </tr>\n",
       "  </tbody>\n",
       "</table>\n",
       "<p>2048 rows × 2 columns</p>\n",
       "</div>"
      ],
      "text/plain": [
       "                 keyword                                        base64_data\n",
       "0     Software Developer  data:image/jpeg;base64,/9j/4AAQSkZJRgABAQAAAQA...\n",
       "1     Software Developer  data:image/jpeg;base64,/9j/4AAQSkZJRgABAQAAAQA...\n",
       "2     Software Developer  data:image/jpeg;base64,/9j/4AAQSkZJRgABAQAAAQA...\n",
       "3     Software Developer  data:image/jpeg;base64,/9j/4AAQSkZJRgABAQAAAQA...\n",
       "4     Software Developer  data:image/jpeg;base64,/9j/4AAQSkZJRgABAQAAAQA...\n",
       "...                  ...                                                ...\n",
       "2043         Interpreter  https://encrypted-tbn0.gstatic.com/images?q=tb...\n",
       "2044         Interpreter  https://encrypted-tbn0.gstatic.com/images?q=tb...\n",
       "2045         Interpreter  https://encrypted-tbn0.gstatic.com/images?q=tb...\n",
       "2046         Interpreter  https://encrypted-tbn0.gstatic.com/images?q=tb...\n",
       "2047         Interpreter  https://encrypted-tbn0.gstatic.com/images?q=tb...\n",
       "\n",
       "[2048 rows x 2 columns]"
      ]
     },
     "execution_count": 9,
     "metadata": {},
     "output_type": "execute_result"
    }
   ],
   "source": [
    "df = pd.read_csv('../DATA/result_base64_data 2.csv')\n",
    "df"
   ]
  },
  {
   "cell_type": "code",
   "execution_count": 10,
   "metadata": {},
   "outputs": [
    {
     "name": "stdout",
     "output_type": "stream",
     "text": [
      "                keyword                                        base64_data\n",
      "0    Software Developer  data:image/jpeg;base64,/9j/4AAQSkZJRgABAQAAAQA...\n",
      "1    Software Developer  data:image/jpeg;base64,/9j/4AAQSkZJRgABAQAAAQA...\n",
      "2    Software Developer  data:image/jpeg;base64,/9j/4AAQSkZJRgABAQAAAQA...\n",
      "3    Software Developer  data:image/jpeg;base64,/9j/4AAQSkZJRgABAQAAAQA...\n",
      "4    Software Developer  data:image/jpeg;base64,/9j/4AAQSkZJRgABAQAAAQA...\n",
      "..                  ...                                                ...\n",
      "995         Interpreter  data:image/jpeg;base64,/9j/4AAQSkZJRgABAQAAAQA...\n",
      "996         Interpreter  data:image/jpeg;base64,/9j/4AAQSkZJRgABAQAAAQA...\n",
      "997         Interpreter  data:image/png;base64,iVBORw0KGgoAAAANSUhEUgAA...\n",
      "998         Interpreter  data:image/jpeg;base64,/9j/4AAQSkZJRgABAQAAAQA...\n",
      "999         Interpreter  data:image/png;base64,iVBORw0KGgoAAAANSUhEUgAA...\n",
      "\n",
      "[1000 rows x 2 columns]\n"
     ]
    }
   ],
   "source": [
    "# Key word별 상위 20개의 사진 저장\n",
    "import pandas as pd\n",
    "\n",
    "# Group by 'keyword' and select the top 20 rows for each group\n",
    "selected_Top20df = df.groupby('keyword').head(20).reset_index(drop=True)\n",
    "\n",
    "print(selected_Top20df)\n"
   ]
  },
  {
   "cell_type": "code",
   "execution_count": 11,
   "metadata": {},
   "outputs": [],
   "source": [
    "# 예제\n",
    "cnt=0\n",
    "for i in range(len(selected_Top20df['keyword'])):\n",
    "    KEYWORD = selected_Top20df['keyword'][i]\n",
    "\n",
    "    url = selected_Top20df['base64_data'][i]\n",
    "    \n",
    "    cnt+=1\n",
    "    if cnt<10:\n",
    "        cntView = '0'+str(cnt)\n",
    "    else:\n",
    "        cntView = str(cnt)\n",
    "\n",
    "    save_image_from_url(url, \"../DATA/screenshot/\"+KEYWORD+\"/job_\"+selected_Top20df['keyword'][i]+\"_img\"+cntView+\".png\")\n",
    "    if cnt%20==0:\n",
    "        cnt=0"
   ]
  },
  {
   "cell_type": "code",
   "execution_count": 12,
   "metadata": {},
   "outputs": [],
   "source": [
    "# 파일 다운받기\n",
    "cnt=0\n",
    "for i in range(len(selected_Top20df['keyword'])):\n",
    "    KEYWORD = selected_Top20df['keyword'][i]\n",
    "\n",
    "    url = selected_Top20df['base64_data'][i]\n",
    "    \n",
    "    cnt+=1\n",
    "    if cnt<10:\n",
    "        cntView = '0'+str(cnt)\n",
    "    else:\n",
    "        cntView = str(cnt)\n",
    "\n",
    "    save_image_from_url(url, \"../DATA/screenshot/\"+KEYWORD+\"/job_\"+selected_Top20df['keyword'][i]+\"_img\"+cntView+\".png\")\n",
    "    if cnt%20==0:\n",
    "        cnt=0"
   ]
  },
  {
   "cell_type": "code",
   "execution_count": null,
   "metadata": {},
   "outputs": [],
   "source": []
  }
 ],
 "metadata": {
  "kernelspec": {
   "display_name": "Python 3",
   "language": "python",
   "name": "python3"
  },
  "language_info": {
   "codemirror_mode": {
    "name": "ipython",
    "version": 3
   },
   "file_extension": ".py",
   "mimetype": "text/x-python",
   "name": "python",
   "nbconvert_exporter": "python",
   "pygments_lexer": "ipython3",
   "version": "3.9.6"
  },
  "orig_nbformat": 4
 },
 "nbformat": 4,
 "nbformat_minor": 2
}
